{
 "cells": [
  {
   "cell_type": "code",
   "execution_count": 1,
   "id": "2b4223f7",
   "metadata": {},
   "outputs": [
    {
     "name": "stdout",
     "output_type": "stream",
     "text": [
      "enter a paragraph: fvkbnkt\n",
      "7\n"
     ]
    }
   ],
   "source": [
    "r = input(\"enter a paragraph: \")\n",
    "k = len(r)\n",
    "print(k)"
   ]
  },
  {
   "cell_type": "code",
   "execution_count": 4,
   "id": "a68ed775",
   "metadata": {},
   "outputs": [
    {
     "name": "stdout",
     "output_type": "stream",
     "text": [
      "\n",
      "1\n",
      "\n"
     ]
    }
   ],
   "source": [
    "#count substring in a string.\n",
    "str1 = 'welcome to aahmedabad'\n",
    "print()\n",
    "print(str1.count(\"welcome\"))\n",
    "print()"
   ]
  },
  {
   "cell_type": "code",
   "execution_count": 6,
   "id": "1afa487b",
   "metadata": {},
   "outputs": [
    {
     "name": "stdout",
     "output_type": "stream",
     "text": [
      "enter a words: mehta nishad\n",
      "mehta nishading\n"
     ]
    }
   ],
   "source": [
    "a = input(\"enter a words: \")\n",
    "b=len(a)\n",
    "if b>2:\n",
    "    if a[-3:] == \"ing\":\n",
    "        b+= \"ly\"\n",
    "    else:\n",
    "        a +=\"ing\"\n",
    "        print(a)"
   ]
  },
  {
   "cell_type": "code",
   "execution_count": 7,
   "id": "a8246f99",
   "metadata": {
    "scrolled": true
   },
   "outputs": [
    {
     "name": "stdout",
     "output_type": "stream",
     "text": [
      "fibonacci series:  0 1 1 2 3 5 8 13 21 34 \n"
     ]
    }
   ],
   "source": [
    "number = 10 \n",
    "n1, n2 = 0,1\n",
    "print(\"fibonacci series: \", n1,n2, end=\" \")\n",
    "for i in range(2,number):\n",
    "    n3 = n1 + n2\n",
    "    n1 = n2\n",
    "    n2 = n3\n",
    "    print(n3, end= \" \")\n",
    "print()\n",
    "    \n",
    "\n"
   ]
  },
  {
   "cell_type": "code",
   "execution_count": 12,
   "id": "44b3f633",
   "metadata": {},
   "outputs": [
    {
     "name": "stdout",
     "output_type": "stream",
     "text": [
      "entert a words: this is not poor\n",
      "this is good\n"
     ]
    }
   ],
   "source": [
    "a= input(\"entert a words: \")\n",
    "k=a.replace(\"not poor\",\"good\")\n",
    "print(k)"
   ]
  },
  {
   "cell_type": "code",
   "execution_count": 16,
   "id": "25d2262a",
   "metadata": {},
   "outputs": [
    {
     "name": "stdout",
     "output_type": "stream",
     "text": [
      "spot\n",
      "tcet\n"
     ]
    }
   ],
   "source": [
    "def reverse_string(str1):\n",
    "    if len(str1) % 4 ==0:\n",
    "        return ''.join(reversed(str1))\n",
    "    return str1\n",
    "print(reverse_string('tops'))\n",
    "print(reverse_string('tect'))"
   ]
  },
  {
   "cell_type": "code",
   "execution_count": 18,
   "id": "cf4beb4f",
   "metadata": {},
   "outputs": [
    {
     "name": "stdout",
     "output_type": "stream",
     "text": [
      "m4re\n",
      "n5n5\n",
      " \n"
     ]
    }
   ],
   "source": [
    "def string_both_ends(str):\n",
    "    if len(str) <2:\n",
    "        return \" \"\n",
    "    return str[0:2] + str[-2:]\n",
    "    \n",
    "print(string_both_ends('m4icore'))\n",
    "print(string_both_ends('n5'))\n",
    "print(string_both_ends('n'))"
   ]
  },
  {
   "cell_type": "code",
   "execution_count": 20,
   "id": "0fe9ace3",
   "metadata": {},
   "outputs": [
    {
     "name": "stdout",
     "output_type": "stream",
     "text": [
      "entert a string: 1234\n",
      "entert a words: mehta\n",
      "12mehta34\n"
     ]
    }
   ],
   "source": [
    "a= input(\"entert a string: \")\n",
    "b= input(\"entert a words: \")\n",
    "print(a[:2] + b +a[2:])\n"
   ]
  },
  {
   "cell_type": "code",
   "execution_count": 1,
   "id": "247385cd",
   "metadata": {},
   "outputs": [
    {
     "name": "stdout",
     "output_type": "stream",
     "text": [
      "entert a string: mehta\n",
      "entert a string: 123\n",
      "me3\n"
     ]
    }
   ],
   "source": [
    "a= input(\"entert a string: \")\n",
    "b= input(\"entert a string: \")\n",
    "print(a[0:2] + b[2:])"
   ]
  },
  {
   "cell_type": "code",
   "execution_count": 2,
   "id": "82bd0141",
   "metadata": {},
   "outputs": [
    {
     "name": "stdout",
     "output_type": "stream",
     "text": [
      "enter a string: mehta nishad\n",
      "{'m': 1, 'e': 1, 'h': 2, 't': 1, 'a': 2, ' ': 1, 'n': 1, 'i': 1, 's': 1, 'd': 1}\n"
     ]
    }
   ],
   "source": [
    "n = input(\"enter a string: \").lower()\n",
    "s={}\n",
    "for i in n:\n",
    "    if i in s:\n",
    "        s[i]+=1\n",
    "    else:\n",
    "        s[i]=1\n",
    "print(s)        \n",
    "    \n",
    "    "
   ]
  },
  {
   "cell_type": "code",
   "execution_count": 4,
   "id": "70922069",
   "metadata": {},
   "outputs": [
    {
     "name": "stdout",
     "output_type": "stream",
     "text": [
      "enter a number: 5\n",
      "factorial of the given number is:  1\n",
      "factorial of the given number is:  2\n",
      "factorial of the given number is:  6\n",
      "factorial of the given number is:  24\n",
      "factorial of the given number is:  120\n"
     ]
    }
   ],
   "source": [
    "n = int(input(\"enter a number: \"))\n",
    "factorial = 1\n",
    "if n>=1:\n",
    "     for i in range(1,n+1):\n",
    "            print(\"factorial of the given number is: \", factorial)"
   ]
  },
  {
   "cell_type": "code",
   "execution_count": 7,
   "id": "6c6c2a7f",
   "metadata": {},
   "outputs": [
    {
     "name": "stdout",
     "output_type": "stream",
     "text": [
      "fibonacci series: 0 1 1 2 2 2 2 2 2 2 \n"
     ]
    }
   ],
   "source": [
    "number = 10\n",
    "n1,n2 = 0,1\n",
    "print(\"fibonacci series:\", n1,n2, end=\" \")\n",
    "for i in range(2,number):\n",
    "    n3 = n1+n2\n",
    "    n1 = n2\n",
    "    n3 = n3\n",
    "    print(n3, end=\" \")\n",
    "print()"
   ]
  },
  {
   "cell_type": "code",
   "execution_count": 9,
   "id": "0e0c1009",
   "metadata": {},
   "outputs": [
    {
     "name": "stdout",
     "output_type": "stream",
     "text": [
      "enter a sentence: technology\n",
      "Longest word is:  technology\n",
      "And its length is:  10\n"
     ]
    }
   ],
   "source": [
    "sentance = input(\"enter a sentence: \")\n",
    "longest = max(sentance.split(), key=len)\n",
    "print(\"Longest word is: \", longest)\n",
    "print(\"And its length is: \", len(longest))\n"
   ]
  },
  {
   "cell_type": "code",
   "execution_count": 10,
   "id": "58c0946f",
   "metadata": {},
   "outputs": [
    {
     "name": "stdout",
     "output_type": "stream",
     "text": [
      "enter a paragraph: hello ahmedabad\n",
      "15\n"
     ]
    }
   ],
   "source": [
    "r=input(\"enter a paragraph: \")\n",
    "k=len(r)\n",
    "print(k)"
   ]
  },
  {
   "cell_type": "code",
   "execution_count": 11,
   "id": "45db97ac",
   "metadata": {},
   "outputs": [
    {
     "name": "stdout",
     "output_type": "stream",
     "text": [
      "enter a number: 5\n",
      "sum of the first 5 positive integers:  15.0\n"
     ]
    }
   ],
   "source": [
    "n = int(input(\"enter a number: \"))\n",
    "sum =(n*(n+1)/2)\n",
    "print(\"sum of the first\",n,\"positive integers: \",sum)"
   ]
  },
  {
   "cell_type": "code",
   "execution_count": 12,
   "id": "f8601fa1",
   "metadata": {},
   "outputs": [
    {
     "name": "stdout",
     "output_type": "stream",
     "text": [
      "yops technologt\n",
      "nythoP\n"
     ]
    }
   ],
   "source": [
    "\n",
    "def swap(string):\n",
    "    start = string[0]\n",
    "    end = string[-1]\n",
    "     \n",
    "    swapped_string = end + string[1:-1] + start\n",
    "    print(swapped_string)\n",
    "    \n",
    "swap(\"tops technology\")\n",
    "swap(\"Python\")"
   ]
  },
  {
   "cell_type": "code",
   "execution_count": null,
   "id": "1fb1d3cc",
   "metadata": {},
   "outputs": [],
   "source": [
    "a = input('enter a letter: ')\n",
    "if a=='a' or a=='e' or a=='i' or a=='o' or a=='u':\n",
    "  print(\"f{a} is vowel\")\n",
    "else:\n",
    "  print(\"f{a} is not vowel\")"
   ]
  },
  {
   "cell_type": "code",
   "execution_count": 27,
   "id": "a8522f0a",
   "metadata": {},
   "outputs": [
    {
     "name": "stdout",
     "output_type": "stream",
     "text": [
      "enter a letter: l\n",
      "f{a} is not vowel\n"
     ]
    }
   ],
   "source": [
    "a= input(\"enter a letter: \")\n",
    "if a=='a' or a=='e' or a=='i' or a=='o' or a=='u':\n",
    "    print(\"f{a} is vowel\")\n",
    "else:\n",
    "    print(\"f{a} is not vowel\")\n",
    "    "
   ]
  },
  {
   "cell_type": "code",
   "execution_count": null,
   "id": "cebd0ab3",
   "metadata": {},
   "outputs": [],
   "source": []
  },
  {
   "cell_type": "code",
   "execution_count": null,
   "id": "b807dedb",
   "metadata": {},
   "outputs": [],
   "source": []
  },
  {
   "cell_type": "code",
   "execution_count": null,
   "id": "ac0dfbf4",
   "metadata": {},
   "outputs": [],
   "source": []
  }
 ],
 "metadata": {
  "kernelspec": {
   "display_name": "Python 3 (ipykernel)",
   "language": "python",
   "name": "python3"
  },
  "language_info": {
   "codemirror_mode": {
    "name": "ipython",
    "version": 3
   },
   "file_extension": ".py",
   "mimetype": "text/x-python",
   "name": "python",
   "nbconvert_exporter": "python",
   "pygments_lexer": "ipython3",
   "version": "3.9.12"
  }
 },
 "nbformat": 4,
 "nbformat_minor": 5
}
