{
 "cells": [
  {
   "cell_type": "code",
   "execution_count": 5,
   "id": "1d6415e6",
   "metadata": {},
   "outputs": [
    {
     "name": "stdout",
     "output_type": "stream",
     "text": [
      "enter a number: 0\n",
      "zero\n"
     ]
    }
   ],
   "source": [
    "# number is positive, negative or zero. \n",
    "\n",
    "n = float(input(\"enter a number: \"))\n",
    "if n> 0:\n",
    "    print(\"positive number\")\n",
    "elif n == 0:\n",
    "    print(\"zero\")\n",
    "else:\n",
    "    print(\"negative number\")\n",
    "    \n"
   ]
  },
  {
   "cell_type": "code",
   "execution_count": 9,
   "id": "93ef0d1d",
   "metadata": {},
   "outputs": [
    {
     "name": "stdout",
     "output_type": "stream",
     "text": [
      "enter a number: 4\n",
      "Factorial of the given number is:  1\n",
      "Factorial of the given number is:  2\n",
      "Factorial of the given number is:  6\n",
      "Factorial of the given number is:  24\n"
     ]
    }
   ],
   "source": [
    "# Factorial number\n",
    "\n",
    "n = int(input(\"enter a number: \"))\n",
    "factorial = 1\n",
    "if n>= 1:\n",
    "    for i in range(1,n+1):\n",
    "        factorial= factorial*i\n",
    "        print(\"Factorial of the given number is: \", factorial)"
   ]
  },
  {
   "cell_type": "code",
   "execution_count": 10,
   "id": "5bfe8a08",
   "metadata": {},
   "outputs": [
    {
     "name": "stdout",
     "output_type": "stream",
     "text": [
      "0\n",
      "1\n",
      "2\n",
      "4\n",
      "5\n",
      "6\n",
      "7\n",
      "8\n"
     ]
    }
   ],
   "source": [
    "\n",
    "for i in range(9):\n",
    "    if i == 3:\n",
    "        continue\n",
    "    print(i)"
   ]
  },
  {
   "cell_type": "code",
   "execution_count": 11,
   "id": "a5e2c051",
   "metadata": {},
   "outputs": [
    {
     "name": "stdout",
     "output_type": "stream",
     "text": [
      "enter a first number: 1\n",
      "enter a second number: 6\n",
      "before swapping a=1 b=6\n",
      "after swapping a=6 b=1\n"
     ]
    }
   ],
   "source": [
    "a = int(input(\"enter a first number: \"))\n",
    "b = int(input(\"enter a second number: \"))\n",
    "print(f\"before swapping a={a} b={b}\")\n",
    "temp = a\n",
    "a=b\n",
    "b=temp\n",
    "print(f\"after swapping a={a} b={b}\")\n"
   ]
  },
  {
   "cell_type": "code",
   "execution_count": 13,
   "id": "0ecc311d",
   "metadata": {},
   "outputs": [
    {
     "name": "stdout",
     "output_type": "stream",
     "text": [
      "enter a number: 4\n",
      "this number is even\n"
     ]
    }
   ],
   "source": [
    "# vowel or not.\n",
    "num = int(input(\"enter a number: \"))\n",
    "if (num % 2) == 0:\n",
    "    print(\"this number is even\")\n",
    "else:\n",
    "    print(\"this number us odd\")"
   ]
  },
  {
   "cell_type": "code",
   "execution_count": null,
   "id": "104e2495",
   "metadata": {},
   "outputs": [],
   "source": [
    "a = int(input(\"enter a first number: \"))\n",
    "b = int(input(\"enter a second number: \"))\n",
    "c = int(input(\"enter a third number: \"))\n",
    "if a==b or b==c or a==c:\n",
    "    print('sum= 0')\n",
    "else:\n",
    "    sum=a+b+c\n",
    "    print(sum)"
   ]
  },
  {
   "cell_type": "code",
   "execution_count": null,
   "id": "7c5d1de9",
   "metadata": {},
   "outputs": [],
   "source": [
    "#two values are equal sum will be zero.\n",
    "a=int(input('Enter 1st number: '))\n",
    "b=int(input('Enter 2nd number: '))\n",
    "c=int(input('Enter 3rd number: '))\n",
    "if a==b or b==c or a==c:\n",
    "    print('sum=0')\n",
    "else:\n",
    "    sum=a+b+c\n",
    "    print(sum)\n",
    "    "
   ]
  },
  {
   "cell_type": "code",
   "execution_count": null,
   "id": "73d1bcf0",
   "metadata": {},
   "outputs": [],
   "source": [
    "# integer values are equal or their sum or difference is 5.\n",
    "a=int(input('enter a number:'))\n",
    "b=int(input('input a number:'))\n",
    "if a==b or (a-b) == 5 or (a+b) == 5:\n",
    "    print(true)\n",
    "else:\n",
    "    print(false)"
   ]
  },
  {
   "cell_type": "code",
   "execution_count": null,
   "id": "6246462c",
   "metadata": {},
   "outputs": [],
   "source": []
  }
 ],
 "metadata": {
  "kernelspec": {
   "display_name": "Python 3 (ipykernel)",
   "language": "python",
   "name": "python3"
  },
  "language_info": {
   "codemirror_mode": {
    "name": "ipython",
    "version": 3
   },
   "file_extension": ".py",
   "mimetype": "text/x-python",
   "name": "python",
   "nbconvert_exporter": "python",
   "pygments_lexer": "ipython3",
   "version": "3.9.12"
  }
 },
 "nbformat": 4,
 "nbformat_minor": 5
}
