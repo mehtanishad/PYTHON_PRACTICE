{
 "cells": [
  {
   "cell_type": "code",
   "execution_count": 6,
   "id": "f7b3b771",
   "metadata": {},
   "outputs": [],
   "source": [
    "# problem 1\n",
    "def count_letters(input_str, output_file):\n",
    "    letter_count = {}\n",
    "    for letter in input_str:\n",
    "        if letter in letter_count:\n",
    "            letter_count[letter] += 1\n",
    "        else:\n",
    "            letter_count[letter] = 1\n",
    "    \n",
    "    with open(output_file, \"a\") as file:\n",
    "        for key, value in letter_count.items():\n",
    "            file.write(f\"{key}:{value},\")"
   ]
  },
  {
   "cell_type": "code",
   "execution_count": 7,
   "id": "826449af",
   "metadata": {},
   "outputs": [],
   "source": [
    "def read_file_contents(file_path):\n",
    "    data = []\n",
    "    with open(file_path, 'r') as file:\n",
    "        for line in file:\n",
    "            line = line.strip()\n",
    "            pairs = line.split(',')\n",
    "            dictionary = {}\n",
    "            for pair in pairs:\n",
    "                key, value = pair.split(':')\n",
    "                dictionary[key] = int(value)\n",
    "            data.append(dictionary)\n",
    "    return data"
   ]
  },
  {
   "cell_type": "code",
   "execution_count": 5,
   "id": "82a0a27c",
   "metadata": {},
   "outputs": [
    {
     "name": "stdout",
     "output_type": "stream",
     "text": [
      "[100, 98, 96, 94, 92, 90, 88, 86, 84, 82, 80, 78, 76, 74, 72, 70, 68, 66, 64, 62, 60, 58, 56, 54, 52, 50, 48, 46, 44, 42, 40, 38, 36, 34, 32, 30, 28, 26, 24, 22, 20, 18, 16, 14, 12, 10, 8, 6, 4, 2, 0]\n"
     ]
    }
   ],
   "source": [
    "# problem 3\n",
    "even_numbers = []\n",
    "for num in range(100, -1, -2):\n",
    "    even_numbers.append(num)\n",
    "\n",
    "print(even_numbers)"
   ]
  },
  {
   "cell_type": "code",
   "execution_count": 12,
   "id": "3dfb89ad",
   "metadata": {},
   "outputs": [],
   "source": [
    "def count_letters(string):\n",
    "    letter_count = {}\n",
    "    \n",
    "    # Count the occurrences of each letter in the string\n",
    "    for letter in string:\n",
    "        if letter in letter_count:\n",
    "            letter_count[letter] += 1\n",
    "        else:\n",
    "            letter_count[letter] = 1\n",
    "    \n",
    "    # Open the file in append mode\n",
    "    with open(\"output.txt\", \"a\") as file:\n",
    "        # Write each key-value pair to the file\n",
    "        for key, value in letter_count.items():\n",
    "            file.write(f\"{key}:{value},\")\n",
    "    \n",
    "    return letter_count\n"
   ]
  },
  {
   "cell_type": "code",
   "execution_count": 2,
   "id": "3d1b4197",
   "metadata": {},
   "outputs": [],
   "source": [
    "def count_letters(input_str, output_file):\n",
    "    letter_count = {}\n",
    "    for letter in input_str:\n",
    "        if letter in letter_count:\n",
    "            letter_count[letter] += 1\n",
    "        else:\n",
    "            letter_count[letter] = 1\n",
    "    \n",
    "    with open(output_file, \"a\") as file:\n",
    "        for key, value in letter_count.items():\n",
    "            file.write(f\"{key}:{value},\")\n"
   ]
  },
  {
   "cell_type": "code",
   "execution_count": 3,
   "id": "eb68fc86",
   "metadata": {},
   "outputs": [],
   "source": [
    "input_str = \"hello\"\n",
    "output_file = \"output.txt\"\n",
    "count_letters(input_str, output_file)\n"
   ]
  },
  {
   "cell_type": "code",
   "execution_count": null,
   "id": "009f158b",
   "metadata": {},
   "outputs": [],
   "source": []
  }
 ],
 "metadata": {
  "kernelspec": {
   "display_name": "Python 3 (ipykernel)",
   "language": "python",
   "name": "python3"
  },
  "language_info": {
   "codemirror_mode": {
    "name": "ipython",
    "version": 3
   },
   "file_extension": ".py",
   "mimetype": "text/x-python",
   "name": "python",
   "nbconvert_exporter": "python",
   "pygments_lexer": "ipython3",
   "version": "3.9.12"
  }
 },
 "nbformat": 4,
 "nbformat_minor": 5
}
