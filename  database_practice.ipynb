{
 "cells": [
  {
   "cell_type": "code",
   "execution_count": 1,
   "id": "c622e8bc",
   "metadata": {},
   "outputs": [],
   "source": [
    "import sqlite3 as sql"
   ]
  },
  {
   "cell_type": "code",
   "execution_count": 3,
   "id": "87ec9364",
   "metadata": {},
   "outputs": [],
   "source": [
    "db = sql.connect(\"mydatabasepractice.db\")"
   ]
  },
  {
   "cell_type": "code",
   "execution_count": 4,
   "id": "8d4d6ab8",
   "metadata": {},
   "outputs": [],
   "source": [
    "cur = db.cursor()"
   ]
  },
  {
   "cell_type": "code",
   "execution_count": 5,
   "id": "ab2de4c2",
   "metadata": {},
   "outputs": [
    {
     "data": {
      "text/plain": [
       "<sqlite3.Cursor at 0x167330beea0>"
      ]
     },
     "execution_count": 5,
     "metadata": {},
     "output_type": "execute_result"
    }
   ],
   "source": [
    "cur.execute(\"create table users(id int, name varchar(25), email varchar(25))\")"
   ]
  },
  {
   "cell_type": "code",
   "execution_count": 7,
   "id": "14299036",
   "metadata": {},
   "outputs": [
    {
     "data": {
      "text/plain": [
       "<sqlite3.Cursor at 0x167330beea0>"
      ]
     },
     "execution_count": 7,
     "metadata": {},
     "output_type": "execute_result"
    }
   ],
   "source": [
    "cur.execute('''insert into users(id,name,email) values('1','nishad','mehtanishad@gmail.com')''')"
   ]
  },
  {
   "cell_type": "code",
   "execution_count": 8,
   "id": "052ba517",
   "metadata": {},
   "outputs": [],
   "source": [
    "db.commit()"
   ]
  },
  {
   "cell_type": "code",
   "execution_count": 9,
   "id": "e716337c",
   "metadata": {},
   "outputs": [
    {
     "data": {
      "text/plain": [
       "<sqlite3.Cursor at 0x167330beea0>"
      ]
     },
     "execution_count": 9,
     "metadata": {},
     "output_type": "execute_result"
    }
   ],
   "source": [
    "cur.execute(\"select * from users\")"
   ]
  },
  {
   "cell_type": "code",
   "execution_count": 10,
   "id": "e3358eae",
   "metadata": {},
   "outputs": [
    {
     "data": {
      "text/plain": [
       "[(1, 'nishad', 'mehtanishad@gmail.com')]"
      ]
     },
     "execution_count": 10,
     "metadata": {},
     "output_type": "execute_result"
    }
   ],
   "source": [
    "cur.fetchall()"
   ]
  },
  {
   "cell_type": "code",
   "execution_count": 12,
   "id": "19bc8a48",
   "metadata": {},
   "outputs": [],
   "source": [
    "data = [\n",
    "    {\n",
    "        'id' : 2,\n",
    "        'name' : 'naresh',\n",
    "        'email' : 'naresh96@gmail.com',\n",
    "    },\n",
    "    {\n",
    "        'id' : 3,\n",
    "        'name' : 'vishal',\n",
    "        'email' : 'vishad@gmail.com',\n",
    "    }\n",
    "]"
   ]
  },
  {
   "cell_type": "code",
   "execution_count": 13,
   "id": "c4844147",
   "metadata": {},
   "outputs": [
    {
     "name": "stdout",
     "output_type": "stream",
     "text": [
      "{'id': 2, 'name': 'naresh', 'email': 'naresh96@gmail.com'}\n",
      "{'id': 3, 'name': 'vishal', 'email': 'vishad@gmail.com'}\n"
     ]
    }
   ],
   "source": [
    "for i in data:\n",
    "    print(i)"
   ]
  },
  {
   "cell_type": "code",
   "execution_count": 14,
   "id": "13f464b0",
   "metadata": {},
   "outputs": [
    {
     "name": "stdout",
     "output_type": "stream",
     "text": [
      "id\n",
      "name\n",
      "email\n",
      "id\n",
      "name\n",
      "email\n"
     ]
    }
   ],
   "source": [
    "for i in data:\n",
    "    for r in i:\n",
    "        print(r)"
   ]
  },
  {
   "cell_type": "code",
   "execution_count": 18,
   "id": "50678ebe",
   "metadata": {},
   "outputs": [
    {
     "name": "stdout",
     "output_type": "stream",
     "text": [
      "id 2\n",
      "name naresh\n",
      "email naresh96@gmail.com\n",
      "id 3\n",
      "name vishal\n",
      "email vishad@gmail.com\n"
     ]
    }
   ],
   "source": [
    "for i in data:\n",
    "    for r in i:\n",
    "        print(r,i[r])"
   ]
  },
  {
   "cell_type": "code",
   "execution_count": null,
   "id": "ac7f5bf0",
   "metadata": {},
   "outputs": [],
   "source": []
  }
 ],
 "metadata": {
  "kernelspec": {
   "display_name": "Python 3 (ipykernel)",
   "language": "python",
   "name": "python3"
  },
  "language_info": {
   "codemirror_mode": {
    "name": "ipython",
    "version": 3
   },
   "file_extension": ".py",
   "mimetype": "text/x-python",
   "name": "python",
   "nbconvert_exporter": "python",
   "pygments_lexer": "ipython3",
   "version": "3.9.12"
  }
 },
 "nbformat": 4,
 "nbformat_minor": 5
}
