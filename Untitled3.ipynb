{
 "cells": [
  {
   "cell_type": "code",
   "execution_count": 1,
   "id": "6f3229ec",
   "metadata": {},
   "outputs": [],
   "source": [
    "import sqlite3 as sql\n",
    "# import SQLite3"
   ]
  },
  {
   "cell_type": "code",
   "execution_count": 2,
   "id": "a14f94a9",
   "metadata": {},
   "outputs": [
    {
     "name": "stdout",
     "output_type": "stream",
     "text": [
      "['DataError', 'DatabaseError', 'Error', 'IntegrityError', 'InterfaceError', 'InternalError', 'NotSupportedError', 'OperationalError', 'ProgrammingError', 'Warning', '__call__', '__class__', '__delattr__', '__dir__', '__doc__', '__enter__', '__eq__', '__exit__', '__format__', '__ge__', '__getattribute__', '__gt__', '__hash__', '__init__', '__init_subclass__', '__le__', '__lt__', '__ne__', '__new__', '__reduce__', '__reduce_ex__', '__repr__', '__setattr__', '__sizeof__', '__str__', '__subclasshook__', 'backup', 'close', 'commit', 'create_aggregate', 'create_collation', 'create_function', 'cursor', 'enable_load_extension', 'execute', 'executemany', 'executescript', 'in_transaction', 'interrupt', 'isolation_level', 'iterdump', 'load_extension', 'rollback', 'row_factory', 'set_authorizer', 'set_progress_handler', 'set_trace_callback', 'text_factory', 'total_changes']\n"
     ]
    }
   ],
   "source": [
    "conn = sql.connect(\"bank.db\") #Connect With Database\n",
    "print(dir(conn))"
   ]
  },
  {
   "cell_type": "code",
   "execution_count": 3,
   "id": "f7c42cd1",
   "metadata": {},
   "outputs": [],
   "source": [
    "cur = conn.cursor()"
   ]
  },
  {
   "cell_type": "code",
   "execution_count": 4,
   "id": "07b0cb65",
   "metadata": {},
   "outputs": [
    {
     "data": {
      "text/plain": [
       "<sqlite3.Cursor at 0x1cb093802d0>"
      ]
     },
     "execution_count": 4,
     "metadata": {},
     "output_type": "execute_result"
    }
   ],
   "source": [
    "cur.execute(\"create table if not exists Manager(Sr_no INTEGER primary key autoincrement, Manager_Name varchar(25), Pharmacy_name varchar(25))\")\n",
    "# create Manager table in database"
   ]
  },
  {
   "cell_type": "code",
   "execution_count": 5,
   "id": "39a34c2a",
   "metadata": {},
   "outputs": [],
   "source": [
    "cur.execute('''insert into Manager(Manager_Name, Pharmacy_name) values(\"jay\", \"Jayraj pharmacy \")''') # Add data in Manager table\n",
    "cur.execute('''insert into Manager(Manager_Name, Pharmacy_name) values(\"naresh\", \"Sun pharmacy \")''') # Add data in database\n",
    "conn.commit() # Commit Manager data"
   ]
  },
  {
   "cell_type": "code",
   "execution_count": 6,
   "id": "3336f829",
   "metadata": {},
   "outputs": [
    {
     "data": {
      "text/plain": [
       "<sqlite3.Cursor at 0x1cb093802d0>"
      ]
     },
     "execution_count": 6,
     "metadata": {},
     "output_type": "execute_result"
    }
   ],
   "source": [
    "cur.execute(\"select * from Manager\")"
   ]
  },
  {
   "cell_type": "code",
   "execution_count": 7,
   "id": "b7f4c89a",
   "metadata": {},
   "outputs": [
    {
     "data": {
      "text/plain": [
       "[(1, 'jay', 'Jayraj pharmacy '), (2, 'naresh', 'Sun pharmacy ')]"
      ]
     },
     "execution_count": 7,
     "metadata": {},
     "output_type": "execute_result"
    }
   ],
   "source": [
    "cur.fetchall() # featchall all Manager data"
   ]
  },
  {
   "cell_type": "code",
   "execution_count": 8,
   "id": "3864d555",
   "metadata": {},
   "outputs": [
    {
     "data": {
      "text/plain": [
       "<sqlite3.Cursor at 0x1cb093802d0>"
      ]
     },
     "execution_count": 8,
     "metadata": {},
     "output_type": "execute_result"
    }
   ],
   "source": [
    "cur.execute(\"create table if not exists Admin(Sr_no INTEGER primary key autoincrement, Email varchar(125), Password varchar(10))\")\n",
    "# Create Admin table in database"
   ]
  },
  {
   "cell_type": "code",
   "execution_count": 9,
   "id": "76dc3483",
   "metadata": {},
   "outputs": [],
   "source": [
    "cur.execute('''insert into Admin(Email, Password) values(\"jay@mail.com\", \"123456789\")''')\n",
    "cur.execute('''insert into Admin(Email, Password) values(\"naresh@mail.com\", \"12345678\")''')\n",
    "conn.commit()"
   ]
  },
  {
   "cell_type": "code",
   "execution_count": 10,
   "id": "7c2f3b6f",
   "metadata": {},
   "outputs": [
    {
     "data": {
      "text/plain": [
       "<sqlite3.Cursor at 0x1cb093802d0>"
      ]
     },
     "execution_count": 10,
     "metadata": {},
     "output_type": "execute_result"
    }
   ],
   "source": [
    "cur.execute(\"create table if not exists Medicine(Sr_no INTEGER primary key autoincrement, Medicine_Name varchar(25), Qty TEXT , Added_date varchar(10), Added_By varchar(10), price int)\")\n",
    "# Create Medicine table in database"
   ]
  },
  {
   "cell_type": "code",
   "execution_count": 11,
   "id": "61bc615b",
   "metadata": {},
   "outputs": [],
   "source": [
    "cur.execute('''insert into Medicine(Medicine_Name, Qty, Added_date, Added_By, price) values(\"Den_p\", \"10x10\", \"4/4/2022\", \"2\", 20)''')\n",
    "cur.execute('''insert into Medicine(Medicine_Name, Qty, Added_date, Added_By, price) values(\"Dolo\", \"10x10\", \"9/5/2022\", \"2\", 20)''')\n",
    "cur.execute('''insert into Medicine(Medicine_Name, Qty, Added_date, Added_By, price) values(\"OTD\", \"10x10\", \"5/6/2022\", \"2\", 20)''')\n",
    "conn.commit()"
   ]
  },
  {
   "cell_type": "code",
   "execution_count": 12,
   "id": "cfb8f4d6",
   "metadata": {},
   "outputs": [
    {
     "data": {
      "text/plain": [
       "[(1, 'Den_p', '10x10', '4/4/2022', '2', 20),\n",
       " (2, 'Dolo', '10x10', '9/5/2022', '2', 20),\n",
       " (3, 'OTD', '10x10', '5/6/2022', '2', 20)]"
      ]
     },
     "execution_count": 12,
     "metadata": {},
     "output_type": "execute_result"
    }
   ],
   "source": [
    "cur.execute(\"select * from Medicine\")\n",
    "cur.fetchall()"
   ]
  },
  {
   "cell_type": "code",
   "execution_count": 13,
   "id": "48be90d8",
   "metadata": {},
   "outputs": [
    {
     "name": "stdout",
     "output_type": "stream",
     "text": [
      "1. Admin\n",
      "2. Pharmacy Manager\n",
      "Choose a number:2\n",
      "You Choose A Pharmacy Manager.\n",
      "1. Can Register \n",
      "2. Can Login \n",
      "3. Can View all manager\n",
      "4. Can View all medicine\n",
      "\n",
      "select Your Option3\n",
      "(1, 'jay', 'Jayraj pharmacy ')\n",
      "(2, 'naresh', 'Sun pharmacy ')\n"
     ]
    }
   ],
   "source": [
    "print('''1. Admin\n",
    "2. Pharmacy Manager''')\n",
    "Choose = int(input(\"Choose a number:\"))\n",
    "\n",
    "if Choose == 1:\n",
    "    print(\"You Choose A Admin.\")\n",
    "    print('''1. Can Register \n",
    "2. Can Login \n",
    "3. Can Add Medicine \n",
    "4. Can View Medicine \n",
    "5. Can Delete Medicine \n",
    "''')\n",
    "\n",
    "    num = int(input(\"select Your Option: \"))\n",
    "    if num == 1: # Register condition\n",
    "        Email = input(\"Enter a Email: \")\n",
    "        Pass = input(\"Enter a Password: \")\n",
    "\n",
    "        query = f'''insert into admin(Email, Password) values{Email, Pass}'''\n",
    "        cur.execute(query)\n",
    "\n",
    "        conn.commit()\n",
    "    elif num == 2: # Login condition\n",
    "        Email = input(\"Enter a Email: \")\n",
    "        Pass = input(\"Enter a Password: \")\n",
    "\n",
    "        query = f'''insert into admin(Email, Password) values{Email, Pass}'''\n",
    "        cur.execute(query)\n",
    "\n",
    "        conn.commit()\n",
    "        \n",
    "    elif num == 3: # Add Medicine data in Medicine table\n",
    "        Medicine_Name = input(\"Enter a Medicine Name: \")\n",
    "        Qty = input(\"Enter a Quantity 10x10: \")\n",
    "        Added_date = input(\"Enter a Added_date 1/1/1111: \")\n",
    "        Added_By = input(\"Enter a Added_By: \")\n",
    "        price = input(\"Enter a price: \")\n",
    "\n",
    "        query = f'''insert into Medicine(Medicine_Name, Qty, Added_date, Added_By, price) \n",
    "        values{Medicine_Name, Qty, Added_date, Added_By, price}'''\n",
    "\n",
    "        cur.execute(query)\n",
    "        conn.commit()\n",
    "\n",
    "    elif num == 4: # View Medicine data from database\n",
    "        cur.execute(\"select * from Medicine\")\n",
    "        man = cur.fetchall()\n",
    "\n",
    "        if man:\n",
    "            for manager in man:\n",
    "                print(manager)\n",
    "\n",
    "    elif num == 5: # Delete one Medicine from Medicine table \n",
    "        no = int(input(\"Choose a no thet you want to delete the Medicine: \"))\n",
    "\n",
    "        query = f'''delete from Medicine where Sr_no = {no}''' \n",
    "        cur.execute(query)\n",
    "\n",
    "        conn.commit()\n",
    "        pass\n",
    "    else:\n",
    "        print(\"Invalid Option\")\n",
    "\n",
    "elif Choose == 2:\n",
    "    print(\"You Choose A Pharmacy Manager.\")\n",
    "    print('''1. Can Register \n",
    "2. Can Login \n",
    "3. Can View all manager\n",
    "4. Can View all medicine\n",
    "''')\n",
    "    \n",
    "    num = int(input(\"select Your Option\"))\n",
    "    if num == 1: # Register condition\n",
    "        Email = input(\"Enter a Email: \")\n",
    "        Pass = input(\"Enter a Password: \")\n",
    "\n",
    "        query = f'''insert into admin(Email, Password) values{Email, Pass}'''\n",
    "        cur.execute(query)\n",
    "\n",
    "        conn.commit()\n",
    "\n",
    "    elif num == 2: # Login condition\n",
    "        Email = input(\"Enter a Email: \")\n",
    "        Pass = input(\"Enter a Password: \")\n",
    "\n",
    "        query = f'''insert into admin(Email, Password) values{Email, Pass}'''\n",
    "        cur.execute(query)\n",
    "\n",
    "        conn.commit()\n",
    "\n",
    "    elif num == 3: # View all manager from manager table\n",
    "        cur.execute(\"select * from Manager\")\n",
    "        man = cur.fetchall()\n",
    "\n",
    "        if man:\n",
    "            for manager in man:\n",
    "                print(manager)\n",
    "        \n",
    "    elif num == 4: # View all medicine from medicine table\n",
    "        cur.execute(\"select * from Medicine\")\n",
    "        med = cur.fetchall()\n",
    "\n",
    "        if med:\n",
    "            for medicine in med:\n",
    "                print(medicine)\n",
    "\n",
    "    else:\n",
    "        print(\"Invalid Option\")\n",
    "\n",
    "else:\n",
    "    print(\"Invelid Number\")"
   ]
  },
  {
   "cell_type": "code",
   "execution_count": null,
   "id": "baad4655",
   "metadata": {},
   "outputs": [],
   "source": []
  }
 ],
 "metadata": {
  "kernelspec": {
   "display_name": "Python 3 (ipykernel)",
   "language": "python",
   "name": "python3"
  },
  "language_info": {
   "codemirror_mode": {
    "name": "ipython",
    "version": 3
   },
   "file_extension": ".py",
   "mimetype": "text/x-python",
   "name": "python",
   "nbconvert_exporter": "python",
   "pygments_lexer": "ipython3",
   "version": "3.9.12"
  }
 },
 "nbformat": 4,
 "nbformat_minor": 5
}
