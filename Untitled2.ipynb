{
 "cells": [
  {
   "cell_type": "code",
   "execution_count": 2,
   "id": "9fc3d71a",
   "metadata": {},
   "outputs": [
    {
     "name": "stdout",
     "output_type": "stream",
     "text": [
      "[1, 2, 3, 4, 5, 6, 7, 8]\n"
     ]
    }
   ],
   "source": [
    "l1 = [1,2,3,4]\n",
    "l2 = [5,6,7,8]\n",
    "l1.extend(l2)\n",
    "print(l1)"
   ]
  },
  {
   "cell_type": "code",
   "execution_count": 6,
   "id": "054dca3e",
   "metadata": {},
   "outputs": [
    {
     "name": "stdout",
     "output_type": "stream",
     "text": [
      "[1, 2, 3, 4, 'nishad', 5, 6, 7, 8]\n"
     ]
    }
   ],
   "source": [
    "l1 = [1,2,3,4]\n",
    "l2 = [5,6,7,8]\n",
    "l1.insert(4, \"nishad\")\n",
    "l1.extend(l2)\n",
    "print(l1)"
   ]
  },
  {
   "cell_type": "code",
   "execution_count": 7,
   "id": "6a330467",
   "metadata": {},
   "outputs": [
    {
     "data": {
      "text/plain": [
       "67"
      ]
     },
     "execution_count": 7,
     "metadata": {},
     "output_type": "execute_result"
    }
   ],
   "source": [
    "l1=[23,45,[56,67],767,90]\n",
    "l1[2][1]"
   ]
  },
  {
   "cell_type": "code",
   "execution_count": 32,
   "id": "83205eb5",
   "metadata": {},
   "outputs": [
    {
     "name": "stdout",
     "output_type": "stream",
     "text": [
      "{1: 'One', 2: 'five', 3: 'Three'}\n"
     ]
    }
   ],
   "source": [
    "\n",
    "d1[2]=\"five\"\n",
    "print(d1)"
   ]
  },
  {
   "cell_type": "code",
   "execution_count": 47,
   "id": "5b23d77c",
   "metadata": {},
   "outputs": [
    {
     "name": "stdout",
     "output_type": "stream",
     "text": [
      "{4: 'four'}\n",
      "{1: 'One', 2: 'Two', 3: 'Three'}\n"
     ]
    }
   ],
   "source": [
    "d1 = {1: \"One\",2: \"Two\", 3: \"Three\"}\n",
    "# d2 = {4: \"four\"}\n",
    "# print(d2)\n",
    "print(d1)"
   ]
  },
  {
   "cell_type": "code",
   "execution_count": 41,
   "id": "cc7db8f1",
   "metadata": {},
   "outputs": [
    {
     "name": "stdout",
     "output_type": "stream",
     "text": [
      "{'i': '1', 'you': '2', 'they': '3'}\n"
     ]
    }
   ],
   "source": [
    "myDic = {\"i\" : \"1\" , \"you\": \"2\" , \"they\" : \"3\"}\n",
    "print(myDic)\n",
    "# for i in myDic:\n",
    "#     print (i)          \n",
    "#     print (myDic[i])"
   ]
  },
  {
   "cell_type": "code",
   "execution_count": 52,
   "id": "16301fca",
   "metadata": {},
   "outputs": [
    {
     "name": "stdout",
     "output_type": "stream",
     "text": [
      "({1: 'One', 2: 'Two', 3: 'Three'}, {4: 'four'})\n"
     ]
    }
   ],
   "source": [
    "d1 = {1: \"One\", 2: \"Two\", 3: \"Three\",},{4:\"four\"}\n",
    "print(d1)"
   ]
  },
  {
   "cell_type": "code",
   "execution_count": null,
   "id": "9cfff2fb",
   "metadata": {},
   "outputs": [],
   "source": []
  }
 ],
 "metadata": {
  "kernelspec": {
   "display_name": "Python 3 (ipykernel)",
   "language": "python",
   "name": "python3"
  },
  "language_info": {
   "codemirror_mode": {
    "name": "ipython",
    "version": 3
   },
   "file_extension": ".py",
   "mimetype": "text/x-python",
   "name": "python",
   "nbconvert_exporter": "python",
   "pygments_lexer": "ipython3",
   "version": "3.9.12"
  }
 },
 "nbformat": 4,
 "nbformat_minor": 5
}
