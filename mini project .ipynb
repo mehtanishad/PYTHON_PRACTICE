{
 "cells": [
  {
   "cell_type": "code",
   "execution_count": 7,
   "id": "b60922ef",
   "metadata": {},
   "outputs": [
    {
     "name": "stdout",
     "output_type": "stream",
     "text": [
      "guess the number4\n",
      "guess the number6\n",
      "Hurray!!\n",
      "you guessed the number right it's 6\n"
     ]
    }
   ],
   "source": [
    "import random\n",
    "number = random.randint(1,10)\n",
    "for i in range(0,3):\n",
    "    user = int(input(\"guess the number\"))\n",
    "    if user == number:\n",
    "        print(\"Hurray!!\")\n",
    "        \n",
    "        print(f\"you guessed the number right it's {number}\")\n",
    "        break\n",
    "if user != number:\n",
    "    print(f\"Your guess is incorrect the number is {number}\")"
   ]
  },
  {
   "cell_type": "code",
   "execution_count": null,
   "id": "8f797ebd",
   "metadata": {},
   "outputs": [],
   "source": [
    "import random \n",
    "passlen = int(input(\"enter a length of password: \"))\n",
    "s =\"abcdefghijklmnopqrstuvwxyz0123456789ABCDEFGHIJKLMNOPQRSTUVWXYZ!@#$%^&*()?\"\n",
    "p = \"\".join(random.sample(s, passlen))\n",
    "print(p)"
   ]
  },
  {
   "cell_type": "code",
   "execution_count": null,
   "id": "99c61077",
   "metadata": {},
   "outputs": [],
   "source": []
  }
 ],
 "metadata": {
  "kernelspec": {
   "display_name": "Python 3 (ipykernel)",
   "language": "python",
   "name": "python3"
  },
  "language_info": {
   "codemirror_mode": {
    "name": "ipython",
    "version": 3
   },
   "file_extension": ".py",
   "mimetype": "text/x-python",
   "name": "python",
   "nbconvert_exporter": "python",
   "pygments_lexer": "ipython3",
   "version": "3.9.12"
  }
 },
 "nbformat": 4,
 "nbformat_minor": 5
}
