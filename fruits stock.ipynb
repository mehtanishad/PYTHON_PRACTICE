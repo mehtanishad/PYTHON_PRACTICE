{
 "cells": [
  {
   "cell_type": "code",
   "execution_count": 9,
   "id": "a213e0bd",
   "metadata": {},
   "outputs": [],
   "source": [
    "import random\n",
    "available_fruit=['mango','banana','guava','apple']\n",
    "fruit_stock=dict()\n",
    "fruit_item=['name','quantity_kg','price','alert']\n",
    "for af in available_fruit:\n",
    "    f_id=random.randint(10,99)\n",
    "    fruit_stock.setdefault(f_id, dict.fromkeys(fruit_item))\n",
    "    fruit_stock[f_id]['name'] = af"
   ]
  },
  {
   "cell_type": "code",
   "execution_count": 10,
   "id": "0f18682b",
   "metadata": {},
   "outputs": [
    {
     "data": {
      "text/plain": [
       "{49: {'name': 'mango', 'quantity_kg': None, 'price': None, 'alert': None},\n",
       " 39: {'name': 'banana', 'quantity_kg': None, 'price': None, 'alert': None},\n",
       " 13: {'name': 'guava', 'quantity_kg': None, 'price': None, 'alert': None},\n",
       " 60: {'name': 'apple', 'quantity_kg': None, 'price': None, 'alert': None}}"
      ]
     },
     "execution_count": 10,
     "metadata": {},
     "output_type": "execute_result"
    }
   ],
   "source": [
    "fruit_stock"
   ]
  },
  {
   "cell_type": "code",
   "execution_count": 12,
   "id": "e892b8bb",
   "metadata": {},
   "outputs": [],
   "source": [
    "fruit_stock[49]['quantity_kg']=40\n",
    "fruit_stock[49]['price']=200\n",
    "fruit_stock[49]['alert']=10\n",
    "fruit_stock[39]['quantity_kg']=30\n",
    "fruit_stock[39]['price']=251\n",
    "fruit_stock[39]['alert']=25\n",
    "\n"
   ]
  },
  {
   "cell_type": "code",
   "execution_count": 14,
   "id": "77c92a82",
   "metadata": {},
   "outputs": [
    {
     "data": {
      "text/plain": [
       "{49: {'name': 'mango', 'quantity_kg': 40, 'price': 200, 'alert': 10},\n",
       " 39: {'name': 'banana', 'quantity_kg': 30, 'price': 251, 'alert': 25},\n",
       " 13: {'name': 'guava', 'quantity_kg': None, 'price': None, 'alert': None},\n",
       " 60: {'name': 'apple', 'quantity_kg': None, 'price': None, 'alert': None}}"
      ]
     },
     "execution_count": 14,
     "metadata": {},
     "output_type": "execute_result"
    }
   ],
   "source": [
    "fruit_stock\n"
   ]
  },
  {
   "cell_type": "code",
   "execution_count": 4,
   "id": "a4432b12",
   "metadata": {},
   "outputs": [
    {
     "name": "stdout",
     "output_type": "stream",
     "text": [
      "Welcome to fruit market\n",
      "1. Manager \n",
      "2. Customer\n",
      "Select Your role: 2\n"
     ]
    }
   ],
   "source": [
    "print('Welcome to fruit market')\n",
    "print('1. Manager \\n2. Customer')\n",
    "fruit_view=dict()\n",
    "option=int(input('Select Your role: '))\n",
    "if option==1:\n",
    "    print('Fruit Market Manager \\n 1. Add Fruit stock \\n 2. View Fruit Stock \\n 3. Update Fruit Stock')\n",
    "    choice=input('Enter Your Choice: ')\n",
    "    if choice==1:\n",
    "      print('ADD FRUIT STOCK')\n",
    "      fruit=input('Enter Fruit Name: ')\n",
    "      qty=input('Enter Quantity: ')\n",
    "      price=int(input('Enter Price: '))\n",
    "      fruit_view.update(fruit,qty,price)\n",
    "\n",
    "    \n"
   ]
  },
  {
   "cell_type": "code",
   "execution_count": 17,
   "id": "e065e442",
   "metadata": {},
   "outputs": [
    {
     "ename": "IndentationError",
     "evalue": "unexpected indent (1104115819.py, line 13)",
     "output_type": "error",
     "traceback": [
      "\u001b[1;36m  Input \u001b[1;32mIn [17]\u001b[1;36m\u001b[0m\n\u001b[1;33m    fruit_stock[f_id]['name']=af\u001b[0m\n\u001b[1;37m    ^\u001b[0m\n\u001b[1;31mIndentationError\u001b[0m\u001b[1;31m:\u001b[0m unexpected indent\n"
     ]
    }
   ],
   "source": [
    "import random\n",
    "print('welcome to fruit market')\n",
    "print('1.manager,/n2 customer')\n",
    "available_fruits = ['mango','banana','guava','apple']\n",
    "fruit_stock = dict()\n",
    "f_id=100\n",
    "fruit_item=['name','quantity_kg','price','alert']\n",
    "option=int(input('select your role: '))\n",
    "if choice==1:\n",
    "    for af in available_fruits:\n",
    "        f_id+=1\n",
    "        fruit_stock.setdefault(f_id,dict.fromkeys(fruit_item))\n",
    "            fruit_stock[f_id]['name']=af\n",
    "            fruit_stock[f_id]['price']=int(input(f'Enter {af} price: '))\n",
    "            fruit_stock[f_id]['quantity']=int(input('Enter quantity: '))\n",
    "            fruit_stock[f_id]['alert']=20\n",
    "elif choice==2:\n",
    "        print(fruit_stock)\n",
    "elif choice==3:\n",
    "        for af in available_fruits:\n",
    "            fruit_id+=1\n",
    "            fruit_stock.setdefault(f_id,dict.fromkeys(fruit_item))\n",
    "                fruit_stock[f_id]['name']=af\n",
    "                fruit_stock[f_id]['price']=int(input(f'Enter {af} price: '))\n",
    "                fruit_stock[f_id]['quantity']+=int(input('Enter quantity: '))\n",
    "                fruit_stock[f_id]['alert']=20\n",
    "else:\n",
    "            print('Incorrect Input')\n",
    "if option==2:\n",
    "    print(\"Welcome To Costomer zone\\n\")\n",
    "    print(f'available fruits = {available_fruits}\\n')\n",
    "    fruit=input('enter a fruit name: ')\n",
    "    fruit=fruit.lower()\n",
    "    if fruit=='mango':\n",
    "        print(f'Fruit Price={fruit_stock[49][price]}')\n",
    "        quantity=int(input('Enter Quantity: '))\n",
    "        fruit_stock[f_id]['quantity']-=quantity\n",
    "        print(f'Pay {49}*{{fruit_stock[98][price]}} For apple')\n",
    "    elif fruit=='banana':\n",
    "        print(f'fruit price={fruit_stock[39][price]}')\n",
    "        quantity=int(input('Enter Quantity: '))\n",
    "        fruit_stock[f_id]['quantity']-=quantity\n",
    "        print(f'Pay {39}*{{fruit_stock[39][price]}} For banana') \n",
    "    elif fruit=='guava':\n",
    "        print(f'fruit price={fruit_stock[13][price]}')\n",
    "        quantity=int(input('Enter Quantity: '))\n",
    "        fruit_stock[f_id]['quantity']-=quantity\n",
    "        print(f'Pay {13}*{{fruit_stock[13][price]}} For guava')\n",
    "    elif fruit=='apple':\n",
    "        print(f'fruit price={fruit_stock[60][price]}')\n",
    "        quantity=int(input('Enter Quantity: '))\n",
    "        fruit_stock[f_id]['quantity']-=quantity\n",
    "        print(f'Pay {60}*{{fruit_stock[60][price]}} For apple')\n",
    "    else:\n",
    "        print('unavailable fruit')\n",
    "        "
   ]
  }
 ],
 "metadata": {
  "kernelspec": {
   "display_name": "Python 3 (ipykernel)",
   "language": "python",
   "name": "python3"
  },
  "language_info": {
   "codemirror_mode": {
    "name": "ipython",
    "version": 3
   },
   "file_extension": ".py",
   "mimetype": "text/x-python",
   "name": "python",
   "nbconvert_exporter": "python",
   "pygments_lexer": "ipython3",
   "version": "3.9.12"
  }
 },
 "nbformat": 4,
 "nbformat_minor": 5
}
