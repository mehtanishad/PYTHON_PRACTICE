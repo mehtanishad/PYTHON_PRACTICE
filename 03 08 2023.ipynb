{
 "cells": [
  {
   "cell_type": "code",
   "execution_count": null,
   "id": "6e063644",
   "metadata": {},
   "outputs": [],
   "source": [
    "import sys\n",
    "\n",
    "class BankCustomer:\n",
    "    def__init__(self, name, address, city, initial_balance):\n",
    "        self.name = name\n",
    "        self.address = address\n",
    "        self.city = city\n",
    "        self.balance = initial_balance\n",
    "        self.trasactions = []\n",
    "        \n",
    "    def deposit(self, amount):\n",
    "        self.balance +=amount\n",
    "        self.transations.append(f\"Deposit: +{amount}\")\n",
    "        \n",
    "    def withdraw(self, amount):\n",
    "        if self,balance >= amount:\n",
    "            self.balance -= amount\n",
    "            self.transactions.append(f\"withdraw: -{amount}\")\n",
    "        else:\n",
    "            print(\"insifficient balance.\")\n",
    "            \n",
    "    def get_balance(self):\n",
    "        return self.balance\n",
    "    \n",
    "    def get_transactions(self):\n",
    "        return self.transactions\n",
    "    \n",
    "class BankingSystem:\n",
    "    \n",
    "    def __init__(self):\n",
    "        self.customer = {}\n",
    "        \n",
    "    def create_customer(self, name, address, city, initial_balance):\n",
    "        customer_id = len(self.customers) + 1\n",
    "        self.customers[customer_id] = BankCustomer(name, address, city, initial_balance)\n",
    "        return customer_id\n",
    "    \n",
    "    def get_customer(self, customer_id):\n",
    "        return self.customers.get(customer_id)\n",
    "    \n",
    "    def get_total_customer(self):\n",
    "        return len(self.customers)\n",
    "    \n",
    "    def get_total_balance(self):\n",
    "            return sum(customer.get_balance() for customer in self.customer.values())\n",
    "        \n",
    "    def print_customer_summary(self, customer_id):\n",
    "        \n",
    "        \n",
    "    \n",
    "    "
   ]
  }
 ],
 "metadata": {
  "kernelspec": {
   "display_name": "Python 3 (ipykernel)",
   "language": "python",
   "name": "python3"
  },
  "language_info": {
   "codemirror_mode": {
    "name": "ipython",
    "version": 3
   },
   "file_extension": ".py",
   "mimetype": "text/x-python",
   "name": "python",
   "nbconvert_exporter": "python",
   "pygments_lexer": "ipython3",
   "version": "3.9.12"
  }
 },
 "nbformat": 4,
 "nbformat_minor": 5
}
