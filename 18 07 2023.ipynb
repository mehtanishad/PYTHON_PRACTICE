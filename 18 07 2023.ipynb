{
 "cells": [
  {
   "cell_type": "code",
   "execution_count": null,
   "id": "fc95f9f1",
   "metadata": {},
   "outputs": [],
   "source": [
    " # positive , negative and zero number\n",
    "n = float(input(\"enter a number :\"))\n",
    "if n> 0:\n",
    "    print(\"positive number\")\n",
    "elif n==0:\n",
    "    print(\"zero\")\n",
    "else:\n",
    "    print(\"negative number\")"
   ]
  },
  {
   "cell_type": "code",
   "execution_count": null,
   "id": "21edd157",
   "metadata": {},
   "outputs": [],
   "source": [
    "# factorial\n",
    "n = int(input(\"enter a number: \"))\n",
    "factorial = 1\n",
    "if n>= 1:\n",
    "    for i in range(1, n+1):\n",
    "        factorial= factorial*i\n",
    "        print(\"factorial number: \", factorial)"
   ]
  },
  {
   "cell_type": "code",
   "execution_count": 7,
   "id": "da64182d",
   "metadata": {},
   "outputs": [
    {
     "name": "stdout",
     "output_type": "stream",
     "text": [
      "enter a number: 5\n",
      "enter a number: 7\n",
      "before swapping a=5 b=7\n",
      "after swapping a=7 b=5\n"
     ]
    }
   ],
   "source": [
    "#  swapping number \n",
    "a= int(input(\"enter a number: \"))\n",
    "b= int(input(\"enter a number: \"))\n",
    "print(f'before swapping a={a} b={b}')\n",
    "temp=a\n",
    "a=b\n",
    "b=temp\n",
    "print(f'after swapping a={a} b={b}')\n"
   ]
  },
  {
   "cell_type": "code",
   "execution_count": 6,
   "id": "03695040",
   "metadata": {},
   "outputs": [
    {
     "name": "stdout",
     "output_type": "stream",
     "text": [
      "enter a letter: e\n",
      "e is vowel\n"
     ]
    }
   ],
   "source": [
    "a = input(\"enter a letter: \")\n",
    "if a=='a' or a=='e' or a=='i' or a=='o' or a=='u':\n",
    "    print(f\"{a} is vowel\")\n",
    "else:\n",
    "    print(f\"{a} is not vowel\")\n",
    "    "
   ]
  },
  {
   "cell_type": "code",
   "execution_count": 10,
   "id": "2a5934fd",
   "metadata": {},
   "outputs": [
    {
     "name": "stdout",
     "output_type": "stream",
     "text": [
      "enter a number: 5\n",
      "odd\n"
     ]
    }
   ],
   "source": [
    "number = int(input(\"enter a number: \"))\n",
    "if (number %2) == 0:\n",
    "    print(\"even\")\n",
    "else:\n",
    "    print(\"odd\")"
   ]
  },
  {
   "cell_type": "code",
   "execution_count": 15,
   "id": "932644de",
   "metadata": {},
   "outputs": [
    {
     "name": "stdout",
     "output_type": "stream",
     "text": [
      "enter a number: 5\n",
      "enter a number: 5\n",
      "enter a number: 5\n",
      "sum=0\n"
     ]
    }
   ],
   "source": [
    "a= int(input(\"enter a number: \"))\n",
    "b= int(input(\"enter a number: \"))\n",
    "c= int(input(\"enter a number: \"))\n",
    "if a==b or b==c or a==c:\n",
    "    print('sum=0')\n",
    "else:\n",
    "    sum=a+b+c\n",
    "    print(sum)"
   ]
  },
  {
   "cell_type": "code",
   "execution_count": null,
   "id": "10a8a049",
   "metadata": {},
   "outputs": [],
   "source": [
    "a= int(input(\"enter a number: \"))\n",
    "b= int(input(\"enter a number: \"))\n",
    "if a==b or (a-b)==5 or (a+b)==5:\n",
    "    print(\"true\")\n",
    "else:\n",
    "    print(\"false\")"
   ]
  },
  {
   "cell_type": "code",
   "execution_count": 1,
   "id": "e8310890",
   "metadata": {},
   "outputs": [
    {
     "name": "stdout",
     "output_type": "stream",
     "text": [
      "enter a paragraph: hello my name is mehta nishad\n",
      "29\n"
     ]
    }
   ],
   "source": [
    "n = input(\"enter a paragraph: \")\n",
    "k=len(n)\n",
    "print(k)"
   ]
  },
  {
   "cell_type": "code",
   "execution_count": 6,
   "id": "f5dbd581",
   "metadata": {},
   "outputs": [
    {
     "name": "stdout",
     "output_type": "stream",
     "text": [
      "enter a words: nishad\n",
      "nishading\n"
     ]
    }
   ],
   "source": [
    "# \n",
    "a = input('enter a words: ')\n",
    "b=len(a)\n",
    "if b>2:\n",
    "    if a[-3:] == 'ing':\n",
    "    b+='ly'\n",
    "else:\n",
    "    a +='ing'\n",
    "    print(a) "
   ]
  },
  {
   "cell_type": "code",
   "execution_count": 12,
   "id": "aa881dfa",
   "metadata": {},
   "outputs": [
    {
     "name": "stdout",
     "output_type": "stream",
     "text": [
      "enter a number: 20\n",
      "fibonnacci series: 0 1 1 2 3 5 8 13 21 34 55 89 144 233 377 610 987 1597 2584 4181 6765 \n"
     ]
    }
   ],
   "source": [
    "number = int(input(\"enter a number: \"))\n",
    "n1 ,n2 =0,1\n",
    "print(\"fibonnacci series:\", n1, n2, end=\" \")\n",
    "for i in range(1,number):\n",
    "    n3=n1+n2\n",
    "    n1=n2\n",
    "    n2=n3\n",
    "    print(n3, end=\" \")\n",
    "print()"
   ]
  },
  {
   "cell_type": "code",
   "execution_count": 13,
   "id": "cfd382e5",
   "metadata": {},
   "outputs": [
    {
     "name": "stdout",
     "output_type": "stream",
     "text": [
      "enter a number: 8\n",
      "fibonacci series:  0 1 1 2 3 5 8 13 21 \n"
     ]
    }
   ],
   "source": [
    "number = int(input(\"enter a number: \"))\n",
    "n1, n2 = 0,1\n",
    "print(\"fibonacci series: \", n1, n2, end=\" \")\n",
    "for i in range(1,number):\n",
    "    n3=n1+n2\n",
    "    n1=n2\n",
    "    n2=n3\n",
    "    print(n3, end=\" \")\n",
    "print()\n"
   ]
  },
  {
   "cell_type": "code",
   "execution_count": 17,
   "id": "fa379b22",
   "metadata": {},
   "outputs": [
    {
     "name": "stdout",
     "output_type": "stream",
     "text": [
      "[1]\n",
      "[1, 4]\n",
      "[1, 4, 9]\n",
      "[1, 4, 9, 16]\n",
      "[1, 4, 9, 16, 25]\n",
      "[1, 4, 9, 16, 25, 36]\n",
      "[1, 4, 9, 16, 25, 36]\n",
      "[1, 4, 9, 16, 25, 36]\n",
      "[1, 4, 9, 16, 25, 36]\n",
      "[1, 4, 9, 16, 25, 36]\n",
      "[1, 4, 9, 16, 25, 36]\n",
      "[1, 4, 9, 16, 25, 36]\n",
      "[1, 4, 9, 16, 25, 36]\n",
      "[1, 4, 9, 16, 25, 36]\n",
      "[1, 4, 9, 16, 25, 36]\n",
      "[1, 4, 9, 16, 25, 36]\n",
      "[1, 4, 9, 16, 25, 36]\n",
      "[1, 4, 9, 16, 25, 36]\n",
      "[1, 4, 9, 16, 25, 36]\n",
      "[1, 4, 9, 16, 25, 36]\n"
     ]
    }
   ],
   "source": [
    "def printValues():\n",
    "    l = list()\n",
    "    for i in range(1,21):\n",
    "        l.append(i**2)\n",
    "        print(l[:6])\n",
    "        \n",
    "printValues()"
   ]
  },
  {
   "cell_type": "code",
   "execution_count": 2,
   "id": "cb854833",
   "metadata": {},
   "outputs": [
    {
     "name": "stdout",
     "output_type": "stream",
     "text": [
      "[1, 2, 3, 4, 5]\n"
     ]
    }
   ],
   "source": [
    "def unique_list(l):\n",
    "    x = []\n",
    "    for a in l:\n",
    "        if a not in x:\n",
    "            x.append(a)\n",
    "    return x\n",
    "\n",
    "print(unique_list([1,2,2,3,3,4,5]))        "
   ]
  },
  {
   "cell_type": "code",
   "execution_count": 6,
   "id": "69e8a750",
   "metadata": {},
   "outputs": [
    {
     "name": "stdout",
     "output_type": "stream",
     "text": [
      "xyz\n"
     ]
    }
   ],
   "source": [
    "s = ['x', 'y', 'z' ]\n",
    "str1 = ''.join(s)\n",
    "print(str1)"
   ]
  },
  {
   "cell_type": "code",
   "execution_count": 1,
   "id": "03b182c4",
   "metadata": {},
   "outputs": [
    {
     "name": "stdout",
     "output_type": "stream",
     "text": [
      "bhutan is good country\n"
     ]
    }
   ],
   "source": [
    "txt=\"bhutan is not any kind of a poor country\"\n",
    "n=txt.replace('not any kind of a poor','good')\n",
    "print(n)"
   ]
  },
  {
   "cell_type": "code",
   "execution_count": 4,
   "id": "571e79f2",
   "metadata": {},
   "outputs": [
    {
     "name": "stdout",
     "output_type": "stream",
     "text": [
      "bhutan is not any kind of a poor country\n"
     ]
    }
   ],
   "source": [
    "txt = \"bhutan is "
   ]
  },
  {
   "cell_type": "code",
   "execution_count": null,
   "id": "b43f2b2d",
   "metadata": {},
   "outputs": [],
   "source": []
  }
 ],
 "metadata": {
  "kernelspec": {
   "display_name": "Python 3 (ipykernel)",
   "language": "python",
   "name": "python3"
  },
  "language_info": {
   "codemirror_mode": {
    "name": "ipython",
    "version": 3
   },
   "file_extension": ".py",
   "mimetype": "text/x-python",
   "name": "python",
   "nbconvert_exporter": "python",
   "pygments_lexer": "ipython3",
   "version": "3.9.12"
  }
 },
 "nbformat": 4,
 "nbformat_minor": 5
}
