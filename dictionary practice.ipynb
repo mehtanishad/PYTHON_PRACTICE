{
 "cells": [
  {
   "cell_type": "code",
   "execution_count": 1,
   "id": "01bc923f",
   "metadata": {},
   "outputs": [
    {
     "name": "stdout",
     "output_type": "stream",
     "text": [
      "{1: 'one', 2: 'two', 3: 'three', 4: 'four'}\n"
     ]
    }
   ],
   "source": [
    "d1 = {1:\"one\", 2:\"two\", 3:\"three\", 4:\"four\"}\n",
    "print(d1)"
   ]
  },
  {
   "cell_type": "code",
   "execution_count": 2,
   "id": "94178719",
   "metadata": {},
   "outputs": [
    {
     "name": "stdout",
     "output_type": "stream",
     "text": [
      "{}\n"
     ]
    }
   ],
   "source": [
    "#clear\n",
    "d1 = {1:\"one\", 2:\"two\", 3:\"three\", 4:\"four\"}\n",
    "d1.clear()\n",
    "print(d1)"
   ]
  },
  {
   "cell_type": "code",
   "execution_count": 3,
   "id": "16ca60b2",
   "metadata": {},
   "outputs": [
    {
     "name": "stdout",
     "output_type": "stream",
     "text": [
      "{}\n"
     ]
    }
   ],
   "source": [
    "print(d1)"
   ]
  },
  {
   "cell_type": "code",
   "execution_count": 7,
   "id": "75df8536",
   "metadata": {},
   "outputs": [
    {
     "name": "stdout",
     "output_type": "stream",
     "text": [
      "{1: 'one', 2: 'two', 3: 'three', 4: 'four'}\n"
     ]
    }
   ],
   "source": [
    "#copy\n",
    "d1 = {1:\"one\", 2:\"two\", 3:\"three\", 4:\"four\"}\n",
    "x = d1.copy()\n",
    "print(x)"
   ]
  },
  {
   "cell_type": "code",
   "execution_count": 8,
   "id": "fc8eaf2f",
   "metadata": {},
   "outputs": [
    {
     "name": "stdout",
     "output_type": "stream",
     "text": [
      "{1: 'one', 2: 'two', 3: 'three', 4: 'four'}\n"
     ]
    }
   ],
   "source": [
    "print(x)"
   ]
  },
  {
   "cell_type": "code",
   "execution_count": 14,
   "id": "84b06163",
   "metadata": {},
   "outputs": [
    {
     "name": "stdout",
     "output_type": "stream",
     "text": [
      "{'one': 0, 'two': 0, 'four': 0, 'three': 0}\n"
     ]
    }
   ],
   "source": [
    "#fromkeys\n",
    "d1 = {\"one\", \"two\", \"three\", \"four\"}\n",
    "d2 = 0\n",
    "d3 = dict.fromkeys(d1,d2)\n",
    "print(d3)"
   ]
  },
  {
   "cell_type": "code",
   "execution_count": 16,
   "id": "4faa219e",
   "metadata": {},
   "outputs": [
    {
     "name": "stdout",
     "output_type": "stream",
     "text": [
      "two\n"
     ]
    }
   ],
   "source": [
    "#get\n",
    "d1 = {1:\"one\", 2:\"two\", 3:\"three\", 4:\"four\"}\n",
    "d3 = d1.get(2)\n",
    "print(d3)"
   ]
  },
  {
   "cell_type": "code",
   "execution_count": 25,
   "id": "2b16388a",
   "metadata": {},
   "outputs": [
    {
     "name": "stdout",
     "output_type": "stream",
     "text": [
      "1 2 3 4 5 6 7 8 9 10 11 12 13 14 15 16 17 18 19 20 21 22 23 24 25 26 27 28 29 30 31 32 33 34 35 36 37 38 39 40 41 42 43 44 45 46 47 48 49 50 "
     ]
    }
   ],
   "source": [
    "def printNumber(n):\n",
    "    if n > 0:\n",
    "        printNumber(n - 1)\n",
    "        print(n, end = ' ')\n",
    "n = 50\n",
    "printNumber(n)\n"
   ]
  },
  {
   "cell_type": "code",
   "execution_count": 30,
   "id": "8109fec5",
   "metadata": {},
   "outputs": [
    {
     "name": "stdout",
     "output_type": "stream",
     "text": [
      "dict_items([(1, 'one'), (2, 'two'), (3, 'three'), (4, 'four')])\n"
     ]
    }
   ],
   "source": [
    "#items\n",
    "d1 = {1:\"one\", 2:\"two\", 3:\"three\", 4:\"four\"}\n",
    "d3 = d1.items()\n",
    "print(d3)"
   ]
  },
  {
   "cell_type": "code",
   "execution_count": 33,
   "id": "d2d2dd43",
   "metadata": {},
   "outputs": [
    {
     "name": "stdout",
     "output_type": "stream",
     "text": [
      "dict_values(['one', 'two', 'three', 'four'])\n"
     ]
    }
   ],
   "source": [
    "#keys\n",
    "d1 = {1:\"one\", 2:\"two\", 3:\"three\", 4:\"four\"}\n",
    "d3 = d1.keys()\n",
    "print(d3)"
   ]
  },
  {
   "cell_type": "code",
   "execution_count": 34,
   "id": "aae0642a",
   "metadata": {},
   "outputs": [
    {
     "name": "stdout",
     "output_type": "stream",
     "text": [
      "dict_values(['one', 'two', 'three', 'four'])\n"
     ]
    }
   ],
   "source": [
    "#values\n",
    "d1 = {1:\"one\", 2:\"two\", 3:\"three\", 4:\"four\"}\n",
    "d3 = d1.values()\n",
    "print(d3)"
   ]
  },
  {
   "cell_type": "code",
   "execution_count": 38,
   "id": "27d0c143",
   "metadata": {},
   "outputs": [
    {
     "name": "stdout",
     "output_type": "stream",
     "text": [
      "one\n"
     ]
    }
   ],
   "source": [
    "#pop\n",
    "d1 = {1:\"one\", 2:\"two\", 3:\"three\", 4:\"four\"}\n",
    "d3 = d1.pop(1)\n",
    "print(d3)"
   ]
  },
  {
   "cell_type": "code",
   "execution_count": 40,
   "id": "30a24a53",
   "metadata": {},
   "outputs": [
    {
     "name": "stdout",
     "output_type": "stream",
     "text": [
      "(5, 'five')\n"
     ]
    }
   ],
   "source": [
    "# popitem\n",
    "d1 = {1:\"one\", 2:\"two\", 3:\"three\", 4:\"four\", 5:\"five\"}\n",
    "d3 = d1.popitem()\n",
    "print(d3)"
   ]
  },
  {
   "cell_type": "code",
   "execution_count": 44,
   "id": "29ce8741",
   "metadata": {},
   "outputs": [
    {
     "name": "stdout",
     "output_type": "stream",
     "text": [
      "six\n"
     ]
    }
   ],
   "source": [
    "# setdefault\n",
    "d1 = {1:\"one\", 2:\"two\", 3:\"three\", 4:\"four\", 5:\"five\"}\n",
    "d3 = d1.setdefault(\"3\", \"six\")\n",
    "print(d3)"
   ]
  },
  {
   "cell_type": "code",
   "execution_count": 57,
   "id": "995b4d29",
   "metadata": {},
   "outputs": [
    {
     "name": "stdout",
     "output_type": "stream",
     "text": [
      "{1: 'one', 2: 'two', 3: 'three', '4': 'six'}\n"
     ]
    }
   ],
   "source": [
    "#update\n",
    "d1 = {1:\"one\", 2:\"two\", 3:\"three\"}\n",
    "d1.update({\"4\": \"six\"})\n",
    "print(d1)"
   ]
  },
  {
   "cell_type": "code",
   "execution_count": 65,
   "id": "69a48f02",
   "metadata": {},
   "outputs": [],
   "source": [
    "#change\n",
    "d1 = {1:\"one\", 2:\"two\", 3:\"three\"}\n",
    "d1[\"three\"] = 2"
   ]
  },
  {
   "cell_type": "code",
   "execution_count": 66,
   "id": "e9b575b5",
   "metadata": {},
   "outputs": [],
   "source": [
    "d1 = {\n",
    "  \"brand\": \"Ford\",\n",
    "  \"model\": \"Mustang\",\n",
    "  \"year\": 1964\n",
    "}\n",
    "d1[\"year\"] = 2018"
   ]
  },
  {
   "cell_type": "code",
   "execution_count": null,
   "id": "f8f7c3b2",
   "metadata": {},
   "outputs": [],
   "source": []
  }
 ],
 "metadata": {
  "kernelspec": {
   "display_name": "Python 3 (ipykernel)",
   "language": "python",
   "name": "python3"
  },
  "language_info": {
   "codemirror_mode": {
    "name": "ipython",
    "version": 3
   },
   "file_extension": ".py",
   "mimetype": "text/x-python",
   "name": "python",
   "nbconvert_exporter": "python",
   "pygments_lexer": "ipython3",
   "version": "3.9.12"
  }
 },
 "nbformat": 4,
 "nbformat_minor": 5
}
