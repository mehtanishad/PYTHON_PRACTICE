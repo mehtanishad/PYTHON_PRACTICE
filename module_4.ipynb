{
 "cells": [
  {
   "cell_type": "code",
   "execution_count": 4,
   "id": "10674289",
   "metadata": {},
   "outputs": [
    {
     "name": "stdout",
     "output_type": "stream",
     "text": [
      "[1, 2, 3, 4]\n"
     ]
    }
   ],
   "source": [
    "def unique_list(l):\n",
    "    x = []\n",
    "    for a in l:\n",
    "        if a not in x:\n",
    "            x.append(a)\n",
    "    return x\n",
    "print(unique_list([1,2,2,3,3,3,3,4,4,]))\n",
    "            "
   ]
  },
  {
   "cell_type": "code",
   "execution_count": 5,
   "id": "f3614808",
   "metadata": {},
   "outputs": [
    {
     "name": "stdout",
     "output_type": "stream",
     "text": [
      "xyz\n"
     ]
    }
   ],
   "source": [
    "s = ['x','y','z']\n",
    "str1 =''.join(s)\n",
    "print(str1)"
   ]
  },
  {
   "cell_type": "code",
   "execution_count": 7,
   "id": "fa4b71fa",
   "metadata": {},
   "outputs": [
    {
     "name": "stdout",
     "output_type": "stream",
     "text": [
      "yellow\n"
     ]
    }
   ],
   "source": [
    "import random\n",
    "list = ['red', 'blue', 'black', 'yellow']\n",
    "print(random.choice(list))"
   ]
  },
  {
   "cell_type": "code",
   "execution_count": 11,
   "id": "109ce274",
   "metadata": {},
   "outputs": [
    {
     "name": "stdout",
     "output_type": "stream",
     "text": [
      "second smallest number in list 3\n"
     ]
    }
   ],
   "source": [
    "list = [10,20,3,43,40,80,100,50]\n",
    "list.sort()\n",
    "print(\"second smallest number in list\", list[0])"
   ]
  },
  {
   "cell_type": "code",
   "execution_count": 12,
   "id": "135dbf78",
   "metadata": {},
   "outputs": [
    {
     "name": "stdout",
     "output_type": "stream",
     "text": [
      "('Black', '2556', 'rgb(0, 0, 0)')\n",
      "('Red', '78678', 'rgb(255, 0, 0)')\n",
      "('Yellow', '45464687', 'rgb(255, 255, 0)')\n"
     ]
    }
   ],
   "source": [
    "# split a list into different variables.\n",
    "color = [(\"Black\", \"2556\", \"rgb(0, 0, 0)\"), (\"Red\", \"78678\", \"rgb(255, 0, 0)\"),\n",
    "         (\"Yellow\", \"45464687\", \"rgb(255, 255, 0)\")]\n",
    "var1, var2, var3 = color\n",
    "print(var1)\n",
    "print(var2)\n",
    "print(var3)"
   ]
  },
  {
   "cell_type": "code",
   "execution_count": 13,
   "id": "34b8e2c9",
   "metadata": {},
   "outputs": [
    {
     "name": "stdout",
     "output_type": "stream",
     "text": [
      "('tuple', False, 3.5, 20)\n"
     ]
    }
   ],
   "source": [
    "# tuple with different data types\n",
    "tuple = (\"tuple\", False, 3.5, 20)\n",
    "print(tuple)"
   ]
  },
  {
   "cell_type": "code",
   "execution_count": 14,
   "id": "3a2730c6",
   "metadata": {},
   "outputs": [
    {
     "name": "stdout",
     "output_type": "stream",
     "text": [
      "(10, 20, 30, 40, 50, 60)\n",
      "(10,)\n"
     ]
    }
   ],
   "source": [
    "tuple = 10,20,30,40,50,60\n",
    "print(tuple)\n",
    "tuple = 10,\n",
    "print(tuple)"
   ]
  },
  {
   "cell_type": "code",
   "execution_count": 16,
   "id": "1270ee45",
   "metadata": {},
   "outputs": [
    {
     "name": "stdout",
     "output_type": "stream",
     "text": [
      "tops\n"
     ]
    }
   ],
   "source": [
    "tuple= ('t','o','p','s')\n",
    "str = ''.join(tuple)\n",
    "print(str)"
   ]
  },
  {
   "cell_type": "code",
   "execution_count": 19,
   "id": "b70ec85b",
   "metadata": {},
   "outputs": [
    {
     "name": "stdout",
     "output_type": "stream",
     "text": [
      "True\n",
      "False\n"
     ]
    }
   ],
   "source": [
    " tuple = ('a','n','h','5','l','g')\n",
    "print('g' in tuple)\n",
    "print('7' in tuple)"
   ]
  },
  {
   "cell_type": "code",
   "execution_count": 20,
   "id": "4b209d80",
   "metadata": {},
   "outputs": [
    {
     "data": {
      "text/plain": [
       "[25, 14, 222, 33, 2]"
      ]
     },
     "execution_count": 20,
     "metadata": {},
     "output_type": "execute_result"
    }
   ],
   "source": [
    "l=[2, 33, 222, 14,25]\n",
    "l.reverse()\n",
    "l"
   ]
  },
  {
   "cell_type": "code",
   "execution_count": 22,
   "id": "af949be9",
   "metadata": {},
   "outputs": [
    {
     "data": {
      "text/plain": [
       "25"
      ]
     },
     "execution_count": 22,
     "metadata": {},
     "output_type": "execute_result"
    }
   ],
   "source": [
    "list = [10,20,60,25]\n",
    "list.pop(-1)\n"
   ]
  },
  {
   "cell_type": "code",
   "execution_count": 25,
   "id": "a3fb1d1d",
   "metadata": {},
   "outputs": [
    {
     "name": "stdout",
     "output_type": "stream",
     "text": [
      "small 4\n",
      "large 20\n"
     ]
    }
   ],
   "source": [
    "l=[10,20,9,8,6,4,7]\n",
    "l.sort()\n",
    "print('small',l[0])\n",
    "print('large',l[-1])"
   ]
  },
  {
   "cell_type": "code",
   "execution_count": 27,
   "id": "ba5e8e26",
   "metadata": {},
   "outputs": [
    {
     "name": "stdout",
     "output_type": "stream",
     "text": [
      "True\n"
     ]
    }
   ],
   "source": [
    "list_a = [2, 4, 6, 8]\n",
    "list_a= [2, 4, 6, 8]\n",
    "\n",
    "list_a = [2, 4, 6, 8]\n",
    "print(list_a==list_a)"
   ]
  },
  {
   "cell_type": "code",
   "execution_count": 2,
   "id": "9a89f3c6",
   "metadata": {},
   "outputs": [
    {
     "name": "stdout",
     "output_type": "stream",
     "text": [
      "2\n"
     ]
    }
   ],
   "source": [
    "def match_words(words):  \n",
    "  ctr = 0  \n",
    "  \n",
    "  for word in words:  \n",
    "    if len(word) > 1 and word[0] == word[-1]:  \n",
    "      ctr += 1  \n",
    "  return ctr  \n",
    "  \n",
    "print(match_words(['abc', 'xyz', 'aba', '1221'])) "
   ]
  },
  {
   "cell_type": "code",
   "execution_count": 4,
   "id": "9c30ece8",
   "metadata": {},
   "outputs": [
    {
     "name": "stdout",
     "output_type": "stream",
     "text": [
      "the list empty\n"
     ]
    }
   ],
   "source": [
    "list = []\n",
    "if not len(list):\n",
    "    print(\"the list empty\")"
   ]
  },
  {
   "cell_type": "code",
   "execution_count": 11,
   "id": "a3b79efc",
   "metadata": {},
   "outputs": [
    {
     "name": "stdout",
     "output_type": "stream",
     "text": [
      "True\n",
      "None\n"
     ]
    }
   ],
   "source": [
    "# common member.\n",
    "def common_data(list1, list2):\n",
    "     result = False\n",
    "     for x in list1:\n",
    "         for y in list2:\n",
    "             if x == y:\n",
    "                 result = True\n",
    "                 return result\n",
    "print(common_data([1,2,3,4,5], [5,6,7,8,9]))\n",
    "print(common_data([1,2,3,4,5], [6,7,8,9]))"
   ]
  },
  {
   "cell_type": "code",
   "execution_count": 13,
   "id": "875a477c",
   "metadata": {},
   "outputs": [
    {
     "name": "stdout",
     "output_type": "stream",
     "text": [
      "[(10, 20, 1000), (40, 50, 1000), (70, 80, 1000)]\n"
     ]
    }
   ],
   "source": [
    "l = [(10, 20, 40), (40, 50, 60), (70, 80, 90)]\n",
    "print([t[:-1] + (1000,) for t in l])"
   ]
  },
  {
   "cell_type": "code",
   "execution_count": 17,
   "id": "70e4f4ef",
   "metadata": {},
   "outputs": [
    {
     "name": "stdout",
     "output_type": "stream",
     "text": [
      "(2, 3, 4, 4, 5, 6, 7, 8, 4, 4, 5, 6, 7, 8, 9, 10)\n",
      "4\n"
     ]
    }
   ],
   "source": [
    "#\n",
    "x=(2,3,4,4,5,6,7,8,4,4,5,6,7,8,9,10)\n",
    "print(x)\n",
    "count=x.count(4)\n",
    "print(count)"
   ]
  },
  {
   "cell_type": "code",
   "execution_count": null,
   "id": "06d82f00",
   "metadata": {},
   "outputs": [],
   "source": [
    "# to unzip a list of tuples into individual lists.\n",
    "l=[(11,12),(13,14),(15,16)]\n",
    "print(list(zip(*l)))"
   ]
  },
  {
   "cell_type": "code",
   "execution_count": 32,
   "id": "bc6b6155",
   "metadata": {},
   "outputs": [
    {
     "name": "stdout",
     "output_type": "stream",
     "text": [
      "{'a': [1, 2, 3], 'b': [1, 2], 'c': [1]}\n"
     ]
    }
   ],
   "source": [
    "l = [(\"a\", 1), (\"a\", 2), (\"a\", 3), (\"b\", 1), (\"b\", 2), (\"c\", 1)]\n",
    "d = {}\n",
    "for a, b in l:\n",
    "    d.setdefault(a,[]).append(b)\n",
    "print(d)"
   ]
  },
  {
   "cell_type": "code",
   "execution_count": 35,
   "id": "45fd4b8c",
   "metadata": {},
   "outputs": [
    {
     "name": "stdout",
     "output_type": "stream",
     "text": [
      "410\n"
     ]
    }
   ],
   "source": [
    "def max_number(list):\n",
    "    max = list[0]\n",
    "    for a in list:\n",
    "        if a > max:\n",
    "            max = a\n",
    "    return max\n",
    "print(max_number([10,20,30,410,70,-50]))\n",
    "    "
   ]
  },
  {
   "cell_type": "code",
   "execution_count": null,
   "id": "77d553e4",
   "metadata": {},
   "outputs": [],
   "source": [
    "def unique_list(l):\n",
    "  x =  []\n",
    "  for a in l:\n",
    "    if a not in x:\n",
    "      x.append(a)\n",
    "      return x\n",
    "      \n",
    "  print(unique_list([1,2,3,3,4,4,5,5,6,7,8]))"
   ]
  },
  {
   "cell_type": "code",
   "execution_count": 6,
   "id": "5b801224",
   "metadata": {},
   "outputs": [],
   "source": [
    "def factorial(n):\n",
    "    if n == 0:\n",
    "        return 1\n",
    "    else:\n",
    "        return n* factorial(n-1)\n",
    "    n = int(input(\"enter a number: \"))\n",
    "    print(factorial(n))"
   ]
  },
  {
   "cell_type": "code",
   "execution_count": null,
   "id": "9edba9ba",
   "metadata": {},
   "outputs": [],
   "source": []
  },
  {
   "cell_type": "code",
   "execution_count": 9,
   "id": "4369ae6b",
   "metadata": {},
   "outputs": [
    {
     "name": "stdout",
     "output_type": "stream",
     "text": [
      " 2 is in the range\n"
     ]
    }
   ],
   "source": [
    "def test_range(n):\n",
    "    if n in range(2,7):\n",
    "        print( \" %s is in the range\"%str(n))\n",
    "    else :\n",
    "        print(\"The number is outside the given range.\")\n",
    "test_range(2)"
   ]
  },
  {
   "cell_type": "code",
   "execution_count": 6,
   "id": "5249e1b1",
   "metadata": {},
   "outputs": [
    {
     "name": "stdout",
     "output_type": "stream",
     "text": [
      "jay\n",
      "36\n"
     ]
    }
   ],
   "source": [
    "class person:\n",
    "    def __init__(self, name, age):\n",
    "        self.name = name\n",
    "        self.age = age\n",
    "        \n",
    "p1 = person(\"jay\",36)\n",
    "\n",
    "print(p1.name)\n",
    "print(p1.age)\n",
    "    "
   ]
  },
  {
   "cell_type": "code",
   "execution_count": 8,
   "id": "16b53483",
   "metadata": {},
   "outputs": [
    {
     "name": "stdout",
     "output_type": "stream",
     "text": [
      "jay(36)\n"
     ]
    }
   ],
   "source": [
    "class person:\n",
    "    def __init__(self, name, age):\n",
    "        self.name = name\n",
    "        self.age = age\n",
    "        \n",
    "    def __str__(self):\n",
    "        return f\"{self.name}({self.age})\"\n",
    "        \n",
    "p1 = person(\"jay\",36)\n",
    "\n",
    "print(p1)\n"
   ]
  },
  {
   "cell_type": "code",
   "execution_count": null,
   "id": "db6588a8",
   "metadata": {},
   "outputs": [],
   "source": [
    "class person:\n",
    "    def __init__(self, name, age):\n",
    "        self.name = name\n",
    "        self.age = age\n",
    "        \n",
    "    def myfunc(self):\n",
    "        return f\"{self.name}\n",
    "        \n",
    "    \n",
    "    \n",
    "    \n",
    "    \n",
    "    \n",
    "    \n",
    "    \n",
    "    \n",
    "    \n",
    "    \n",
    "    \n",
    "    \n",
    "    \n",
    "    \n",
    "    \n",
    "    \n",
    "    \n",
    "    \n",
    "    \n",
    "    \n",
    "    \n",
    "    \n",
    "    \n",
    "    \n",
    "    \n",
    "    \n",
    "    \n",
    "    \n",
    "    \n",
    "    \n",
    "    \n",
    "    \n",
    "    \n",
    "    \n",
    "    \n",
    "    \n",
    "    \n",
    "    \n",
    "    \n",
    "    \n",
    "    \n",
    "    \n",
    "    \n",
    "    \n",
    "    \n",
    "    \n",
    "    \n",
    "    \n",
    "\n",
    "        \n",
    "p1 = person(\"jay\",36)\n",
    "\n",
    "print(p1)"
   ]
  }
 ],
 "metadata": {
  "kernelspec": {
   "display_name": "Python 3 (ipykernel)",
   "language": "python",
   "name": "python3"
  },
  "language_info": {
   "codemirror_mode": {
    "name": "ipython",
    "version": 3
   },
   "file_extension": ".py",
   "mimetype": "text/x-python",
   "name": "python",
   "nbconvert_exporter": "python",
   "pygments_lexer": "ipython3",
   "version": "3.9.12"
  }
 },
 "nbformat": 4,
 "nbformat_minor": 5
}
