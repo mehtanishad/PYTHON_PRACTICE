{
 "cells": [
  {
   "cell_type": "code",
   "execution_count": 4,
   "id": "a213e0bd",
   "metadata": {},
   "outputs": [],
   "source": [
    "import random\n",
    "available_fruits=['mango','banana','guava','apple']\n",
    "fruits_stock=dict()\n",
    "fruit_item=['name','quantity_kg','price','alert']\n",
    "for af in available_fruits:\n",
    "    f_id=random.randint(10,99)\n",
    "    fruits_stock.setdefault(f_id, dict.fromkeys(fruit_item))\n",
    "    fruits_stock[f_id]['name'] = af"
   ]
  },
  {
   "cell_type": "code",
   "execution_count": 5,
   "id": "0f18682b",
   "metadata": {},
   "outputs": [
    {
     "data": {
      "text/plain": [
       "{98: {'name': 'mango', 'quantity_kg': None, 'price': None, 'alert': None},\n",
       " 48: {'name': 'banana', 'quantity_kg': None, 'price': None, 'alert': None},\n",
       " 46: {'name': 'guava', 'quantity_kg': None, 'price': None, 'alert': None},\n",
       " 27: {'name': 'apple', 'quantity_kg': None, 'price': None, 'alert': None}}"
      ]
     },
     "execution_count": 5,
     "metadata": {},
     "output_type": "execute_result"
    }
   ],
   "source": [
    "fruits_stock"
   ]
  },
  {
   "cell_type": "code",
   "execution_count": 9,
   "id": "e892b8bb",
   "metadata": {},
   "outputs": [],
   "source": [
    "fruits_stock[46]['quantity_kg']=40\n",
    "fruits_stock[46]['price']=200\n",
    "fruits_stock[46]['alert']=10\n",
    "fruits_stock[98]['quantity_kg']=30\n",
    "fruits_stock[98]['price']=251\n",
    "fruits_stock[98]['alert']=25\n",
    "\n"
   ]
  },
  {
   "cell_type": "code",
   "execution_count": 10,
   "id": "77c92a82",
   "metadata": {},
   "outputs": [
    {
     "data": {
      "text/plain": [
       "{98: {'name': 'mango', 'quantity_kg': 30, 'price': 251, 'alert': 25},\n",
       " 48: {'name': 'banana', 'quantity_kg': None, 'price': None, 'alert': None},\n",
       " 46: {'name': 'guava', 'quantity_kg': 40, 'price': 200, 'alert': 10},\n",
       " 27: {'name': 'apple', 'quantity_kg': None, 'price': None, 'alert': None}}"
      ]
     },
     "execution_count": 10,
     "metadata": {},
     "output_type": "execute_result"
    }
   ],
   "source": [
    "fruits_stock"
   ]
  },
  {
   "cell_type": "code",
   "execution_count": null,
   "id": "a4432b12",
   "metadata": {},
   "outputs": [],
   "source": [
    "import random\n",
    "print('welcome to fruit market')\n",
    "print('1.manager,/n2 customer')\n",
    "available_fruits = ['apple', 'mango', 'banana', 'orange', 'pinappale', 'grapes']\n",
    "fruit_stock = dict()\n",
    "f_id=100\n",
    "fruit_item=['name','quantity_kg','price','alert']\n",
    "option ==1\n"
   ]
  }
 ],
 "metadata": {
  "kernelspec": {
   "display_name": "Python 3 (ipykernel)",
   "language": "python",
   "name": "python3"
  },
  "language_info": {
   "codemirror_mode": {
    "name": "ipython",
    "version": 3
   },
   "file_extension": ".py",
   "mimetype": "text/x-python",
   "name": "python",
   "nbconvert_exporter": "python",
   "pygments_lexer": "ipython3",
   "version": "3.9.12"
  }
 },
 "nbformat": 4,
 "nbformat_minor": 5
}
