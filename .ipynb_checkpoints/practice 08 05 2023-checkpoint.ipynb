{
 "cells": [
  {
   "cell_type": "code",
   "execution_count": 2,
   "id": "1e8afc48",
   "metadata": {},
   "outputs": [
    {
     "name": "stdout",
     "output_type": "stream",
     "text": [
      "enter a string hello my son \n",
      "{'h': 1, 'e': 1, 'l': 2, 'o': 2, ' ': 3, 'm': 1, 'y': 1, 's': 1, 'n': 1}\n"
     ]
    }
   ],
   "source": [
    "n = input(\"enter a string \").lower()\n",
    "s={}\n",
    "for i in n:\n",
    "    if i in s:\n",
    "        s[i]+=1\n",
    "    else:\n",
    "        s[i]=1\n",
    "print(s)"
   ]
  },
  {
   "cell_type": "code",
   "execution_count": 8,
   "id": "7057df55",
   "metadata": {},
   "outputs": [
    {
     "name": "stdout",
     "output_type": "stream",
     "text": [
      "enter a number: 8\n",
      "factorial number given is 1\n",
      "factorial number given is 2\n",
      "factorial number given is 6\n",
      "factorial number given is 24\n",
      "factorial number given is 120\n",
      "factorial number given is 720\n",
      "factorial number given is 5040\n",
      "factorial number given is 40320\n"
     ]
    }
   ],
   "source": [
    "n = int(input(\"enter a number: \"))\n",
    "factorial = 1\n",
    "if n>=1:\n",
    "    for i in range(1,n+1):\n",
    "        factorial = factorial*i\n",
    "        print(f\"factorial number given is\",factorial)"
   ]
  },
  {
   "cell_type": "code",
   "execution_count": 9,
   "id": "543ad7e7",
   "metadata": {},
   "outputs": [
    {
     "name": "stdout",
     "output_type": "stream",
     "text": [
      "fibonacci series 0 112358132134\n"
     ]
    }
   ],
   "source": [
    "number = 10\n",
    "n1, n2 = 0,1\n",
    "print(\"fibonacci series\", n1, n2, end=\"\")\n",
    "for i in range(2,number):\n",
    "    n3 = n1+n2\n",
    "    n1 = n2\n",
    "    n2 = n3\n",
    "    print(n3, end=\"\")\n",
    "print()"
   ]
  },
  {
   "cell_type": "code",
   "execution_count": null,
   "id": "98741774",
   "metadata": {},
   "outputs": [],
   "source": []
  }
 ],
 "metadata": {
  "kernelspec": {
   "display_name": "Python 3 (ipykernel)",
   "language": "python",
   "name": "python3"
  },
  "language_info": {
   "codemirror_mode": {
    "name": "ipython",
    "version": 3
   },
   "file_extension": ".py",
   "mimetype": "text/x-python",
   "name": "python",
   "nbconvert_exporter": "python",
   "pygments_lexer": "ipython3",
   "version": "3.9.12"
  }
 },
 "nbformat": 4,
 "nbformat_minor": 5
}
