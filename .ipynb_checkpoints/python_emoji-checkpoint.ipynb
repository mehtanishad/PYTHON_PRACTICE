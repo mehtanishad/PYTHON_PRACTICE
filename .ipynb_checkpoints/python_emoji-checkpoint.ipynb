{
 "cells": [
  {
   "cell_type": "code",
   "execution_count": 14,
   "metadata": {
    "colab": {
     "base_uri": "https://localhost:8080/"
    },
    "executionInfo": {
     "elapsed": 627,
     "status": "ok",
     "timestamp": 1663844187642,
     "user": {
      "displayName": "Nishad Mehta",
      "userId": "01629760065984525625"
     },
     "user_tz": -330
    },
    "id": "NHoZp3v_yquW",
    "outputId": "048200b7-4728-4c78-c86c-6591375929fb"
   },
   "outputs": [
    {
     "name": "stdout",
     "output_type": "stream",
     "text": [
      "😀\n",
      "😅\n",
      "😁\n",
      "😃\n",
      "😂\n",
      "🤣\n",
      "🥂\n",
      "😍\n"
     ]
    }
   ],
   "source": [
    "print(\"\\U0001F600\")\n",
    "print(\"\\U0001F605\")\n",
    "print(\"\\U0001F601\")\n",
    "print(\"\\U0001F603\")\n",
    "print(\"\\U0001F602\")\n",
    "print(\"\\U0001F923\")\n",
    "print(\"\\U0001F942\")\n",
    "print(\"\\U0001F60D\")\n",
    "\n"
   ]
  },
  {
   "cell_type": "code",
   "execution_count": 2,
   "metadata": {
    "colab": {
     "base_uri": "https://localhost:8080/"
    },
    "executionInfo": {
     "elapsed": 9,
     "status": "ok",
     "timestamp": 1663844213118,
     "user": {
      "displayName": "Nishad Mehta",
      "userId": "01629760065984525625"
     },
     "user_tz": -330
    },
    "id": "vGBS6k1U13al",
    "outputId": "6ba40ee8-7b8a-49b7-a540-37ab3eb2a918"
   },
   "outputs": [
    {
     "name": "stdout",
     "output_type": "stream",
     "text": [
      "  😀\n",
      "  😀  😀\n",
      "  😀  😀  😀\n",
      "  😀  😀  😀  😀\n",
      "  😀  😀  😀  😀  😀\n",
      "  😀  😀  😀  😀  😀  😀\n",
      "  😀  😀  😀  😀  😀  😀  😀\n",
      "  😀  😀  😀  😀  😀  😀  😀  😀\n",
      "  😀  😀  😀  😀  😀  😀  😀  😀  😀\n",
      "  😀  😀  😀  😀  😀  😀  😀  😀  😀  😀\n"
     ]
    }
   ],
   "source": [
    "for i in range(1,11):\n",
    "  print('' *(10 - i)+'  \\U0001F600' *i )"
   ]
  },
  {
   "cell_type": "code",
   "execution_count": 1,
   "metadata": {
    "colab": {
     "base_uri": "https://localhost:8080/"
    },
    "executionInfo": {
     "elapsed": 374,
     "status": "ok",
     "timestamp": 1663844276726,
     "user": {
      "displayName": "Nishad Mehta",
      "userId": "01629760065984525625"
     },
     "user_tz": -330
    },
    "id": "WBHG1ZGE19yV",
    "outputId": "7907422b-4566-410e-920b-316cae3f87ae"
   },
   "outputs": [
    {
     "name": "stdout",
     "output_type": "stream",
     "text": [
      "😍😍😍😍😍😍😍😍😍😍😍😍😍😍😍😍😍😍😍😍\n",
      " 😍😍😍😍😍😍😍😍😍😍😍😍😍😍😍😍😍😍😍\n",
      "  😍😍😍😍😍😍😍😍😍😍😍😍😍😍😍😍😍😍\n",
      "   😍😍😍😍😍😍😍😍😍😍😍😍😍😍😍😍😍\n",
      "    😍😍😍😍😍😍😍😍😍😍😍😍😍😍😍😍\n",
      "     😍😍😍😍😍😍😍😍😍😍😍😍😍😍😍\n",
      "      😍😍😍😍😍😍😍😍😍😍😍😍😍😍\n",
      "       😍😍😍😍😍😍😍😍😍😍😍😍😍\n",
      "        😍😍😍😍😍😍😍😍😍😍😍😍\n",
      "         😍😍😍😍😍😍😍😍😍😍😍\n",
      "          😍😍😍😍😍😍😍😍😍😍\n",
      "           😍😍😍😍😍😍😍😍😍\n",
      "            😍😍😍😍😍😍😍😍\n",
      "             😍😍😍😍😍😍😍\n",
      "              😍😍😍😍😍😍\n",
      "               😍😍😍😍😍\n",
      "                😍😍😍😍\n",
      "                 😍😍😍\n",
      "                  😍😍\n",
      "                   😍\n"
     ]
    }
   ],
   "source": [
    "for i in range(20,0,-1):\n",
    "  print(' ' * (20-i) + '\\U0001F60D' * i)"
   ]
  },
  {
   "cell_type": "code",
   "execution_count": 8,
   "metadata": {},
   "outputs": [],
   "source": [
    "for i in range(20,0,-1):\n",
    "  print(' ' * (20-i) + '\\U0001F60D' * i)"
   ]
  },
  {
   "cell_type": "code",
   "execution_count": 9,
   "metadata": {},
   "outputs": [],
   "source": []
  },
  {
   "cell_type": "code",
   "execution_count": 10,
   "metadata": {},
   "outputs": [
    {
     "name": "stdout",
     "output_type": "stream",
     "text": [
      "😍😍😍😍😍😍😍😍😍😍😍😍😍😍😍😍😍😍😍😍\n",
      " 😍😍😍😍😍😍😍😍😍😍😍😍😍😍😍😍😍😍😍\n",
      "  😍😍😍😍😍😍😍😍😍😍😍😍😍😍😍😍😍😍\n",
      "   😍😍😍😍😍😍😍😍😍😍😍😍😍😍😍😍😍\n",
      "    😍😍😍😍😍😍😍😍😍😍😍😍😍😍😍😍\n",
      "     😍😍😍😍😍😍😍😍😍😍😍😍😍😍😍\n",
      "      😍😍😍😍😍😍😍😍😍😍😍😍😍😍\n",
      "       😍😍😍😍😍😍😍😍😍😍😍😍😍\n",
      "        😍😍😍😍😍😍😍😍😍😍😍😍\n",
      "         😍😍😍😍😍😍😍😍😍😍😍\n",
      "          😍😍😍😍😍😍😍😍😍😍\n",
      "           😍😍😍😍😍😍😍😍😍\n",
      "            😍😍😍😍😍😍😍😍\n",
      "             😍😍😍😍😍😍😍\n",
      "              😍😍😍😍😍😍\n",
      "               😍😍😍😍😍\n",
      "                😍😍😍😍\n",
      "                 😍😍😍\n",
      "                  😍😍\n",
      "                   😍\n"
     ]
    }
   ],
   "source": [
    "for i in range(20,0,-1):\n",
    "  print(' ' * (20-i) + '\\U0001F60D' * i)"
   ]
  },
  {
   "cell_type": "code",
   "execution_count": null,
   "metadata": {},
   "outputs": [],
   "source": []
  }
 ],
 "metadata": {
  "colab": {
   "authorship_tag": "ABX9TyNp+kdr9caiZMW5Nv5xc2+o",
   "collapsed_sections": [],
   "provenance": []
  },
  "kernelspec": {
   "display_name": "Python 3 (ipykernel)",
   "language": "python",
   "name": "python3"
  },
  "language_info": {
   "codemirror_mode": {
    "name": "ipython",
    "version": 3
   },
   "file_extension": ".py",
   "mimetype": "text/x-python",
   "name": "python",
   "nbconvert_exporter": "python",
   "pygments_lexer": "ipython3",
   "version": "3.9.12"
  }
 },
 "nbformat": 4,
 "nbformat_minor": 1
}
