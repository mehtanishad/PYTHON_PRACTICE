{
 "cells": [
  {
   "cell_type": "code",
   "execution_count": 13,
   "id": "d80980c9",
   "metadata": {
    "scrolled": true
   },
   "outputs": [
    {
     "name": "stdout",
     "output_type": "stream",
     "text": [
      "5\n"
     ]
    }
   ],
   "source": [
    "import random\n",
    "l=[1,2,3,4,5,6,7,8,9]\n",
    "nishad = random.randrange(len(l))\n",
    "\n",
    "print(l[nishad])\n",
    "    "
   ]
  },
  {
   "cell_type": "code",
   "execution_count": 22,
   "id": "f283726b",
   "metadata": {},
   "outputs": [
    {
     "data": {
      "text/plain": [
       "9"
      ]
     },
     "execution_count": 22,
     "metadata": {},
     "output_type": "execute_result"
    }
   ],
   "source": [
    "random.randrange(10)"
   ]
  },
  {
   "cell_type": "code",
   "execution_count": 24,
   "id": "16d6515d",
   "metadata": {
    "scrolled": true
   },
   "outputs": [
    {
     "data": {
      "text/plain": [
       "0.6339947827441432"
      ]
     },
     "execution_count": 24,
     "metadata": {},
     "output_type": "execute_result"
    }
   ],
   "source": [
    "random.random()"
   ]
  },
  {
   "cell_type": "code",
   "execution_count": 28,
   "id": "16090378",
   "metadata": {},
   "outputs": [
    {
     "data": {
      "text/plain": [
       "75"
      ]
     },
     "execution_count": 28,
     "metadata": {},
     "output_type": "execute_result"
    }
   ],
   "source": [
    "random.randrange(10,99)"
   ]
  },
  {
   "cell_type": "code",
   "execution_count": 32,
   "id": "20724409",
   "metadata": {},
   "outputs": [
    {
     "data": {
      "text/plain": [
       "'nishad'"
      ]
     },
     "execution_count": 32,
     "metadata": {},
     "output_type": "execute_result"
    }
   ],
   "source": [
    "random.choice([\"nishad\",\"mehta\"])"
   ]
  },
  {
   "cell_type": "raw",
   "id": "c831c168",
   "metadata": {},
   "source": [
    "for i in range(20):\n",
    "    print(random.choice([\"nishad\",\"mehta\",\"hy\",\"hello\"]))"
   ]
  },
  {
   "cell_type": "code",
   "execution_count": 39,
   "id": "e0a16497",
   "metadata": {},
   "outputs": [
    {
     "data": {
      "text/plain": [
       "7"
      ]
     },
     "execution_count": 39,
     "metadata": {},
     "output_type": "execute_result"
    }
   ],
   "source": [
    "random.randint(1,10)"
   ]
  },
  {
   "cell_type": "code",
   "execution_count": 43,
   "id": "277433de",
   "metadata": {},
   "outputs": [
    {
     "data": {
      "text/plain": [
       "'h'"
      ]
     },
     "execution_count": 43,
     "metadata": {},
     "output_type": "execute_result"
    }
   ],
   "source": [
    "random.choice(\"hello\")"
   ]
  },
  {
   "cell_type": "code",
   "execution_count": 68,
   "id": "872a52bf",
   "metadata": {
    "scrolled": true
   },
   "outputs": [
    {
     "name": "stdout",
     "output_type": "stream",
     "text": [
      "nihad\n",
      "mehta\n"
     ]
    }
   ],
   "source": [
    "users=[\"nihad\",\"mehta\"]\n",
    "\n",
    "for user in user:\n",
    "    print(user)"
   ]
  },
  {
   "cell_type": "code",
   "execution_count": 72,
   "id": "0d49309b",
   "metadata": {},
   "outputs": [
    {
     "name": "stdout",
     "output_type": "stream",
     "text": [
      "nihad\n",
      "mehta\n",
      "nihad\n",
      "mehta\n",
      "nihad\n",
      "mehta\n",
      "nihad\n",
      "mehta\n",
      "nihad\n",
      "mehta\n",
      "nihad\n",
      "mehta\n",
      "nihad\n",
      "mehta\n",
      "nihad\n",
      "mehta\n",
      "nihad\n",
      "mehta\n",
      "nihad\n",
      "mehta\n"
     ]
    }
   ],
   "source": [
    "for i in range(1,11):\n",
    "    for user in users:\n",
    "        print(user)"
   ]
  },
  {
   "cell_type": "code",
   "execution_count": 74,
   "id": "597f4b69",
   "metadata": {},
   "outputs": [
    {
     "name": "stdout",
     "output_type": "stream",
     "text": [
      "A\n",
      "B\n",
      "C\n",
      "D\n",
      "E\n",
      "F\n",
      "G\n",
      "H\n",
      "I\n",
      "J\n",
      "K\n",
      "L\n",
      "M\n",
      "N\n",
      "O\n",
      "P\n",
      "Q\n",
      "R\n",
      "S\n",
      "T\n",
      "U\n",
      "V\n",
      "W\n",
      "X\n",
      "Y\n",
      "Z\n"
     ]
    }
   ],
   "source": [
    "for i in range(65, 91):\n",
    "    print(chr(i))"
   ]
  },
  {
   "cell_type": "code",
   "execution_count": 78,
   "id": "0d53ee14",
   "metadata": {},
   "outputs": [],
   "source": [
    "l = [1,2,3,4,4,6]\n",
    "random.shuffle(l)"
   ]
  },
  {
   "cell_type": "code",
   "execution_count": 79,
   "id": "3c626a63",
   "metadata": {},
   "outputs": [
    {
     "data": {
      "text/plain": [
       "[2, 4, 3, 1, 4, 6]"
      ]
     },
     "execution_count": 79,
     "metadata": {},
     "output_type": "execute_result"
    }
   ],
   "source": [
    "l"
   ]
  }
 ],
 "metadata": {
  "kernelspec": {
   "display_name": "Python 3 (ipykernel)",
   "language": "python",
   "name": "python3"
  },
  "language_info": {
   "codemirror_mode": {
    "name": "ipython",
    "version": 3
   },
   "file_extension": ".py",
   "mimetype": "text/x-python",
   "name": "python",
   "nbconvert_exporter": "python",
   "pygments_lexer": "ipython3",
   "version": "3.9.12"
  }
 },
 "nbformat": 4,
 "nbformat_minor": 5
}
