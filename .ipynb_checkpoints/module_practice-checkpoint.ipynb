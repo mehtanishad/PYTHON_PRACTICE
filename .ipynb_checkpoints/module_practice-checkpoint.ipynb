{
 "cells": [
  {
   "cell_type": "code",
   "execution_count": 13,
   "id": "832a359a",
   "metadata": {
    "scrolled": true
   },
   "outputs": [
    {
     "name": "stdout",
     "output_type": "stream",
     "text": [
      "5\n"
     ]
    }
   ],
   "source": [
    "import random\n",
    "l=[1,2,3,4,5,6,7,8,9]\n",
    "nishad = random.randrange(len(l))\n",
    "\n",
    "print(l[nishad])\n",
    "    "
   ]
  },
  {
   "cell_type": "code",
   "execution_count": 22,
   "id": "7999973e",
   "metadata": {},
   "outputs": [
    {
     "data": {
      "text/plain": [
       "9"
      ]
     },
     "execution_count": 22,
     "metadata": {},
     "output_type": "execute_result"
    }
   ],
   "source": [
    "random.randrange(10)"
   ]
  },
  {
   "cell_type": "code",
   "execution_count": 24,
   "id": "4d04638c",
   "metadata": {
    "scrolled": true
   },
   "outputs": [
    {
     "data": {
      "text/plain": [
       "0.6339947827441432"
      ]
     },
     "execution_count": 24,
     "metadata": {},
     "output_type": "execute_result"
    }
   ],
   "source": [
    "random.random()"
   ]
  },
  {
   "cell_type": "code",
   "execution_count": 28,
   "id": "5a74004a",
   "metadata": {},
   "outputs": [
    {
     "data": {
      "text/plain": [
       "75"
      ]
     },
     "execution_count": 28,
     "metadata": {},
     "output_type": "execute_result"
    }
   ],
   "source": [
    "random.randrange(10,99)"
   ]
  },
  {
   "cell_type": "code",
   "execution_count": 32,
   "id": "c634e7b7",
   "metadata": {},
   "outputs": [
    {
     "data": {
      "text/plain": [
       "'nishad'"
      ]
     },
     "execution_count": 32,
     "metadata": {},
     "output_type": "execute_result"
    }
   ],
   "source": [
    "random.choice([\"nishad\",\"mehta\"])"
   ]
  },
  {
   "cell_type": "raw",
   "id": "95ff84c5",
   "metadata": {},
   "source": [
    "for i in range(20):\n",
    "    print(random.choice([\"nishad\",\"mehta\",\"hy\",\"hello\"]))"
   ]
  },
  {
   "cell_type": "code",
   "execution_count": 39,
   "id": "1123b902",
   "metadata": {},
   "outputs": [
    {
     "data": {
      "text/plain": [
       "7"
      ]
     },
     "execution_count": 39,
     "metadata": {},
     "output_type": "execute_result"
    }
   ],
   "source": [
    "random.randint(1,10)"
   ]
  },
  {
   "cell_type": "code",
   "execution_count": 43,
   "id": "0f64ce5a",
   "metadata": {},
   "outputs": [
    {
     "data": {
      "text/plain": [
       "'h'"
      ]
     },
     "execution_count": 43,
     "metadata": {},
     "output_type": "execute_result"
    }
   ],
   "source": [
    "random.choice(\"hello\")"
   ]
  },
  {
   "cell_type": "code",
   "execution_count": 68,
   "id": "913a390a",
   "metadata": {
    "scrolled": true
   },
   "outputs": [
    {
     "name": "stdout",
     "output_type": "stream",
     "text": [
      "nihad\n",
      "mehta\n"
     ]
    }
   ],
   "source": [
    "users=[\"nihad\",\"mehta\"]\n",
    "\n",
    "for user in user:\n",
    "    print(user)"
   ]
  },
  {
   "cell_type": "code",
   "execution_count": 72,
   "id": "36c0991c",
   "metadata": {},
   "outputs": [
    {
     "name": "stdout",
     "output_type": "stream",
     "text": [
      "nihad\n",
      "mehta\n",
      "nihad\n",
      "mehta\n",
      "nihad\n",
      "mehta\n",
      "nihad\n",
      "mehta\n",
      "nihad\n",
      "mehta\n",
      "nihad\n",
      "mehta\n",
      "nihad\n",
      "mehta\n",
      "nihad\n",
      "mehta\n",
      "nihad\n",
      "mehta\n",
      "nihad\n",
      "mehta\n"
     ]
    }
   ],
   "source": [
    "for i in range(1,11):\n",
    "    for user in users:\n",
    "        print(user)"
   ]
  },
  {
   "cell_type": "code",
   "execution_count": null,
   "id": "cb2176c1",
   "metadata": {},
   "outputs": [],
   "source": []
  }
 ],
 "metadata": {
  "kernelspec": {
   "display_name": "Python 3 (ipykernel)",
   "language": "python",
   "name": "python3"
  },
  "language_info": {
   "codemirror_mode": {
    "name": "ipython",
    "version": 3
   },
   "file_extension": ".py",
   "mimetype": "text/x-python",
   "name": "python",
   "nbconvert_exporter": "python",
   "pygments_lexer": "ipython3",
   "version": "3.9.12"
  }
 },
 "nbformat": 4,
 "nbformat_minor": 5
}
