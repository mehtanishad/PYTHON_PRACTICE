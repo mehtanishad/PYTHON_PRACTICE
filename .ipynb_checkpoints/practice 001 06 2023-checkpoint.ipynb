{
 "cells": [
  {
   "cell_type": "code",
   "execution_count": 3,
   "id": "834a21bf",
   "metadata": {},
   "outputs": [
    {
     "name": "stdout",
     "output_type": "stream",
     "text": [
      "enter a string: mehta nishad\n",
      "{'m': 1, 'e': 1, 'h': 2, 't': 1, 'a': 2, ' ': 1, 'n': 1, 'i': 1, 's': 1, 'd': 1}\n"
     ]
    }
   ],
   "source": [
    "n = input(\"enter a string: \")\n",
    "s = {}\n",
    "for i in n:\n",
    "    if i in s:\n",
    "        s[i] +=1\n",
    "    else:\n",
    "        s[i]=1\n",
    "print(s)"
   ]
  },
  {
   "cell_type": "code",
   "execution_count": 7,
   "id": "593d6a9a",
   "metadata": {},
   "outputs": [
    {
     "name": "stdout",
     "output_type": "stream",
     "text": [
      "enter a number: 8\n",
      "Factorial of the given number is:  1\n",
      "Factorial of the given number is:  2\n",
      "Factorial of the given number is:  6\n",
      "Factorial of the given number is:  24\n",
      "Factorial of the given number is:  120\n",
      "Factorial of the given number is:  720\n",
      "Factorial of the given number is:  5040\n",
      "Factorial of the given number is:  40320\n"
     ]
    }
   ],
   "source": [
    "n = int(input(\"enter a number: \"))\n",
    "factorial = 1\n",
    "if n>=1:\n",
    "    for i in range(1, n+1):\n",
    "        factorial = factorial*i\n",
    "        print(\"Factorial of the given number is: \", factorial)"
   ]
  },
  {
   "cell_type": "code",
   "execution_count": 11,
   "id": "6323d41d",
   "metadata": {},
   "outputs": [
    {
     "name": "stdout",
     "output_type": "stream",
     "text": [
      "enter a number: 5\n",
      "factorial: 1\n",
      "factorial: 2\n",
      "factorial: 6\n",
      "factorial: 24\n",
      "factorial: 120\n"
     ]
    }
   ],
   "source": [
    "n = int(input(\"enter a number: \"))\n",
    "factorial = 1\n",
    "if n>= 1:\n",
    "    for i in range(1, n+1):\n",
    "        factorial = factorial *i\n",
    "        print(\"factorial:\", factorial)"
   ]
  },
  {
   "cell_type": "code",
   "execution_count": 4,
   "id": "0bb3ab62",
   "metadata": {},
   "outputs": [
    {
     "name": "stdout",
     "output_type": "stream",
     "text": [
      "fibonacci series: 0 1 1 2 3 5 8 13 21 34 \n"
     ]
    }
   ],
   "source": [
    "number = 10\n",
    "n1, n2 = 0,1\n",
    "print(\"fibonacci series:\", n1,n2,end=\" \")\n",
    "for i in range(2, number):\n",
    "    n3 = n1+n2\n",
    "    n1 = n2\n",
    "    n2 = n3\n",
    "    print(n3, end=\" \")\n",
    "print()"
   ]
  },
  {
   "cell_type": "code",
   "execution_count": null,
   "id": "db23ec25",
   "metadata": {},
   "outputs": [],
   "source": []
  },
  {
   "cell_type": "code",
   "execution_count": 6,
   "id": "04d0ebce",
   "metadata": {},
   "outputs": [
    {
     "name": "stdout",
     "output_type": "stream",
     "text": [
      "enter a string: nishad\n",
      "enter a words: 2030\n",
      "ni2030shad\n"
     ]
    }
   ],
   "source": [
    "a=input(\"enter a string: \")\n",
    "b=input(\"enter a words: \")\n",
    "print(a[:2] + b +a[2:])"
   ]
  },
  {
   "cell_type": "code",
   "execution_count": 22,
   "id": "a521a216",
   "metadata": {},
   "outputs": [
    {
     "name": "stdout",
     "output_type": "stream",
     "text": [
      "spot\n",
      "technology\n"
     ]
    }
   ],
   "source": [
    "def reverse_string(str1):\n",
    "    if len(str1) % 4 == 0:\n",
    "          return ''.join(reversed(str1))\n",
    "    return str1\n",
    "\n",
    "print(reverse_string('tops'))\n",
    "print(reverse_string('technology'))\n"
   ]
  },
  {
   "cell_type": "code",
   "execution_count": 23,
   "id": "50627659",
   "metadata": {},
   "outputs": [
    {
     "name": "stdout",
     "output_type": "stream",
     "text": [
      "enter a sentance: my name is mehta nishad\n",
      "longest word is:  nishad\n",
      "and its length is:  6\n"
     ]
    }
   ],
   "source": [
    "sentance = input(\"enter a sentance: \")\n",
    "longest = max(sentance.split(), key=len)\n",
    "print(\"longest word is: \", longest)\n",
    "print(\"and its length is: len(longest))"
   ]
  },
  {
   "cell_type": "code",
   "execution_count": null,
   "id": "1e5af394",
   "metadata": {},
   "outputs": [],
   "source": [
    "n = float(input(\"enter a number: \"))\n",
    "if n> 0:\n",
    "    print(\"positive number\")\n",
    "elif n == 0:\n",
    "    print(\"zero\")\n",
    "else:\n",
    "    print(\"negative number\")\n"
   ]
  },
  {
   "cell_type": "code",
   "execution_count": 1,
   "id": "54c7b1d1",
   "metadata": {},
   "outputs": [
    {
     "name": "stdout",
     "output_type": "stream",
     "text": [
      "enter a number: 5\n",
      "odd number\n"
     ]
    }
   ],
   "source": [
    "number = int(input(\"enter a number: \"))\n",
    "if (number % 2) == 0:\n",
    "    print(\"even numner\")\n",
    "else:\n",
    "    print(\"odd number\")\n"
   ]
  },
  {
   "cell_type": "code",
   "execution_count": 3,
   "id": "5664138a",
   "metadata": {},
   "outputs": [
    {
     "name": "stdout",
     "output_type": "stream",
     "text": [
      "enter a word: mehta nishad\n",
      "mehta nishad\n"
     ]
    }
   ],
   "source": [
    "a = input(\"enter a word: \")\n",
    "k=a.replace(\"not poor\", \"good\")\n",
    "print(a)"
   ]
  },
  {
   "cell_type": "code",
   "execution_count": 4,
   "id": "101df27e",
   "metadata": {},
   "outputs": [
    {
     "name": "stdout",
     "output_type": "stream",
     "text": [
      "enter a paragraph: mehta nishad\n",
      "12\n"
     ]
    }
   ],
   "source": [
    "r=input(\"enter a paragraph: \")\n",
    "k=len(r)\n",
    "print(k)"
   ]
  },
  {
   "cell_type": "code",
   "execution_count": 6,
   "id": "02af709d",
   "metadata": {},
   "outputs": [
    {
     "name": "stdout",
     "output_type": "stream",
     "text": [
      "enter a number: 5\n",
      "sum of the first 5 positive integers 15.0\n"
     ]
    }
   ],
   "source": [
    "n =int(input(\"enter a number: \"))\n",
    "sum_num = (n *(n + 1)) /2\n",
    "print(\"sum of the first\", n , \"positive integers\", sum_num )"
   ]
  },
  {
   "cell_type": "code",
   "execution_count": null,
   "id": "e504735f",
   "metadata": {},
   "outputs": [],
   "source": []
  }
 ],
 "metadata": {
  "kernelspec": {
   "display_name": "Python 3 (ipykernel)",
   "language": "python",
   "name": "python3"
  },
  "language_info": {
   "codemirror_mode": {
    "name": "ipython",
    "version": 3
   },
   "file_extension": ".py",
   "mimetype": "text/x-python",
   "name": "python",
   "nbconvert_exporter": "python",
   "pygments_lexer": "ipython3",
   "version": "3.9.12"
  }
 },
 "nbformat": 4,
 "nbformat_minor": 5
}
