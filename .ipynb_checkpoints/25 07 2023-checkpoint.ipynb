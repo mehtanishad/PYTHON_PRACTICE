{
 "cells": [
  {
   "cell_type": "code",
   "execution_count": 3,
   "id": "cf1b823d",
   "metadata": {},
   "outputs": [
    {
     "name": "stdout",
     "output_type": "stream",
     "text": [
      "A\n",
      "BC\n",
      "CDE\n",
      "DEFG\n",
      "EFGHI\n"
     ]
    }
   ],
   "source": [
    "for i in range(65,70):\n",
    "    k=i\n",
    "    for j in range(65,i+1):\n",
    "        print(chr(k), end=\" \")\n",
    "        k=k+1\n",
    "    print()"
   ]
  },
  {
   "cell_type": "code",
   "execution_count": 6,
   "id": "72f6ff3e",
   "metadata": {},
   "outputs": [
    {
     "name": "stdout",
     "output_type": "stream",
     "text": [
      "A \n",
      "B C \n",
      "C D E \n",
      "D E F G \n",
      "E F G H I \n"
     ]
    }
   ],
   "source": [
    "for i in range(65,70):\n",
    "    k=i\n",
    "    for j in range(65,i+1):\n",
    "        print(chr(k), end=\" \")\n",
    "        k = k+1\n",
    "    print()"
   ]
  },
  {
   "cell_type": "code",
   "execution_count": 11,
   "id": "449161d7",
   "metadata": {},
   "outputs": [
    {
     "name": "stdout",
     "output_type": "stream",
     "text": [
      "* \n",
      "* * \n",
      "* * * \n",
      "* * * * \n"
     ]
    }
   ],
   "source": [
    "for i in range(1,5):\n",
    "    print(\"* \"*i)\n",
    "\n",
    "\n",
    "\n"
   ]
  },
  {
   "cell_type": "code",
   "execution_count": 13,
   "id": "8dcc7e4e",
   "metadata": {},
   "outputs": [
    {
     "name": "stdout",
     "output_type": "stream",
     "text": [
      "     \n",
      "    * \n",
      "   * * \n",
      "  * * * \n",
      " * * * * \n"
     ]
    }
   ],
   "source": [
    "for i in range(5):\n",
    "    print(' '*(5-i)+'* '*i)\n",
    "\n",
    "\n"
   ]
  },
  {
   "cell_type": "code",
   "execution_count": 14,
   "id": "724df25a",
   "metadata": {},
   "outputs": [
    {
     "name": "stdout",
     "output_type": "stream",
     "text": [
      "     \n",
      "    * \n",
      "   * * \n",
      "  * * * \n",
      " * * * * \n"
     ]
    }
   ],
   "source": [
    "for i in range(5):\n",
    "    print(' '*(5-i)+'* '*i)"
   ]
  },
  {
   "cell_type": "code",
   "execution_count": 23,
   "id": "6038094b",
   "metadata": {},
   "outputs": [
    {
     "name": "stdout",
     "output_type": "stream",
     "text": [
      "* * * * * \n",
      " * * * * \n",
      "  * * * \n",
      "   * * \n",
      "    * \n"
     ]
    }
   ],
   "source": [
    "for i in range(5, 0, -1):\n",
    "    print(' '*(5-i)+'* '*i)\n",
    "    "
   ]
  },
  {
   "cell_type": "code",
   "execution_count": 24,
   "id": "e0fc3b34",
   "metadata": {},
   "outputs": [],
   "source": [
    "for i in range(-1, 0, -1):\n",
    "    print(' '*(5-i)+'* '*i)"
   ]
  },
  {
   "cell_type": "code",
   "execution_count": 25,
   "id": "54edd4b4",
   "metadata": {},
   "outputs": [
    {
     "name": "stdout",
     "output_type": "stream",
     "text": [
      "* * * * * * * * * * \n",
      "* * * * * * * * * \n",
      "* * * * * * * * \n",
      "* * * * * * * \n",
      "* * * * * * \n",
      "* * * * * \n",
      "* * * * \n",
      "* * * \n",
      "* * \n",
      "* \n"
     ]
    }
   ],
   "source": [
    "for i in range(10,0,-1):\n",
    "    print(\"* \"*i)"
   ]
  },
  {
   "cell_type": "code",
   "execution_count": 30,
   "id": "6118fd33",
   "metadata": {},
   "outputs": [
    {
     "name": "stdout",
     "output_type": "stream",
     "text": [
      "\n",
      "* \n",
      "* * \n",
      "* * * \n",
      "* * * * \n",
      "* * * * * \n",
      "* * * * * * \n",
      "* * * * * * * \n",
      "* * * * * * * * \n",
      "* * * * * * * * * \n"
     ]
    }
   ],
   "source": [
    "for i in range(0,10,1):\n",
    "    print(\"* \"*i)"
   ]
  },
  {
   "cell_type": "code",
   "execution_count": 2,
   "id": "7149f307",
   "metadata": {},
   "outputs": [
    {
     "name": "stdout",
     "output_type": "stream",
     "text": [
      "A \n",
      "B C \n",
      "C D E \n",
      "D E F G \n",
      "E F G H I \n"
     ]
    }
   ],
   "source": [
    "for i in range(65,70):\n",
    "    k = i\n",
    "    for i in range(65, i+1):\n",
    "        print(chr(k),end=\" \")\n",
    "        k=k+1\n",
    "    print()        "
   ]
  },
  {
   "cell_type": "code",
   "execution_count": 9,
   "id": "f1c47717",
   "metadata": {},
   "outputs": [
    {
     "name": "stdout",
     "output_type": "stream",
     "text": [
      "         * \n",
      "        * * \n",
      "       * * * \n",
      "      * * * * \n",
      "     * * * * * \n",
      "    * * * * * * \n",
      "   * * * * * * * \n",
      "  * * * * * * * * \n",
      " * * * * * * * * * \n"
     ]
    }
   ],
   "source": [
    "for i in range(1,10):\n",
    "    print(' '*(10-i)+'* '*i)"
   ]
  },
  {
   "cell_type": "code",
   "execution_count": 10,
   "id": "a326637e",
   "metadata": {},
   "outputs": [
    {
     "name": "stdout",
     "output_type": "stream",
     "text": [
      "A \n",
      "B C \n",
      "C D E \n",
      "D E F G \n",
      "E F G H I \n"
     ]
    }
   ],
   "source": [
    "for i in range(65,70):\n",
    "    k=i\n",
    "    for i in range(65,i+1):\n",
    "        print(chr(k), end=\" \")\n",
    "        k=k+1\n",
    "    print()"
   ]
  },
  {
   "cell_type": "code",
   "execution_count": 14,
   "id": "85b8ae1b",
   "metadata": {},
   "outputs": [
    {
     "name": "stdout",
     "output_type": "stream",
     "text": [
      "*\n",
      "**\n",
      "***\n",
      "****\n",
      "*****\n",
      "******\n",
      "*******\n",
      "********\n",
      "*********\n"
     ]
    }
   ],
   "source": [
    "for i in range(1,10):\n",
    "    print('*'*i)"
   ]
  },
  {
   "cell_type": "code",
   "execution_count": null,
   "id": "3a37598f",
   "metadata": {},
   "outputs": [],
   "source": []
  },
  {
   "cell_type": "code",
   "execution_count": null,
   "id": "412f3d9d",
   "metadata": {},
   "outputs": [
    {
     "name": "stdout",
     "output_type": "stream",
     "text": [
      "\n",
      "======= Banking System =======\n",
      "1. Create New Customer\n",
      "2. Deposit Funds\n",
      "3. Withdraw Funds\n",
      "4. See Customer Balance\n",
      "5. Get Transaction Details\n",
      "6. Show Total Customers and Total Balance\n",
      "7. Show Customer Summary\n",
      "8. Exit\n",
      "Enter your choice (1-8): 1\n",
      "Enter customer name: mehta nishad\n",
      "Enter customer address: ahmedabad\n",
      "Enter customer city: ahmedabad\n",
      "Enter initial balance (optional): 25000\n",
      "Customer created with ID: 1\n",
      "\n",
      "======= Banking System =======\n",
      "1. Create New Customer\n",
      "2. Deposit Funds\n",
      "3. Withdraw Funds\n",
      "4. See Customer Balance\n",
      "5. Get Transaction Details\n",
      "6. Show Total Customers and Total Balance\n",
      "7. Show Customer Summary\n",
      "8. Exit\n",
      "Enter your choice (1-8): 3\n",
      "Enter customer ID: 1\n",
      "Enter withdrawal amount: 2500\n",
      "\n",
      "======= Banking System =======\n",
      "1. Create New Customer\n",
      "2. Deposit Funds\n",
      "3. Withdraw Funds\n",
      "4. See Customer Balance\n",
      "5. Get Transaction Details\n",
      "6. Show Total Customers and Total Balance\n",
      "7. Show Customer Summary\n",
      "8. Exit\n",
      "Enter your choice (1-8): 4\n",
      "Enter customer ID: 1\n",
      "Balance: 22500.0\n",
      "\n",
      "======= Banking System =======\n",
      "1. Create New Customer\n",
      "2. Deposit Funds\n",
      "3. Withdraw Funds\n",
      "4. See Customer Balance\n",
      "5. Get Transaction Details\n",
      "6. Show Total Customers and Total Balance\n",
      "7. Show Customer Summary\n",
      "8. Exit\n",
      "Enter your choice (1-8): 4\n",
      "Enter customer ID: 1\n",
      "Balance: 22500.0\n",
      "\n",
      "======= Banking System =======\n",
      "1. Create New Customer\n",
      "2. Deposit Funds\n",
      "3. Withdraw Funds\n",
      "4. See Customer Balance\n",
      "5. Get Transaction Details\n",
      "6. Show Total Customers and Total Balance\n",
      "7. Show Customer Summary\n",
      "8. Exit\n"
     ]
    }
   ],
   "source": [
    "# banking system\n",
    "import sys\n",
    "\n",
    "class BankCustomer:\n",
    "    def __init__(self, name, address, city, initial_balance=0):\n",
    "        self.name = name\n",
    "        self.address = address\n",
    "        self.city = city\n",
    "        self.balance = initial_balance\n",
    "        self.transactions = []\n",
    "\n",
    "    def deposit(self, amount):\n",
    "        self.balance += amount\n",
    "        self.transactions.append(f\"Deposit: +{amount}\")\n",
    "\n",
    "    def withdraw(self, amount):\n",
    "        if self.balance >= amount:\n",
    "            self.balance -= amount\n",
    "            self.transactions.append(f\"Withdraw: -{amount}\")\n",
    "        else:\n",
    "            print(\"Insufficient balance.\")\n",
    "\n",
    "    def get_balance(self):\n",
    "        return self.balance\n",
    "\n",
    "    def get_transactions(self):\n",
    "        return self.transactions\n",
    "\n",
    "class BankingSystem:\n",
    "    def __init__(self):\n",
    "        self.customers = {}\n",
    "\n",
    "    def create_customer(self, name, address, city, initial_balance=0):\n",
    "        customer_id = len(self.customers) + 1\n",
    "        self.customers[customer_id] = BankCustomer(name, address, city, initial_balance)\n",
    "        return customer_id\n",
    "\n",
    "    def get_customer(self, customer_id):\n",
    "        return self.customers.get(customer_id)\n",
    "\n",
    "    def get_total_customers(self):\n",
    "        return len(self.customers)\n",
    "\n",
    "    def get_total_balance(self):\n",
    "        return sum(customer.get_balance() for customer in self.customers.values())\n",
    "\n",
    "    def print_customer_summary(self, customer_id):\n",
    "        customer = self.get_customer(customer_id)\n",
    "        if customer:\n",
    "            print(f\"Name: {customer.name}\")\n",
    "            print(f\"Address: {customer.address}\")\n",
    "            print(f\"City: {customer.city}\")\n",
    "            print(f\"Balance: {customer.balance}\")\n",
    "            print(\"Transactions:\")\n",
    "            for transaction in customer.get_transactions():\n",
    "                print(transaction)\n",
    "        else:\n",
    "            print(\"Customer not found.\")\n",
    "\n",
    "def main():\n",
    "    banking_system = BankingSystem()\n",
    "\n",
    "    while True:\n",
    "        print(\"\\n======= Banking System =======\")\n",
    "        print(\"1. Create New Customer\")\n",
    "        print(\"2. Deposit Funds\")\n",
    "        print(\"3. Withdraw Funds\")\n",
    "        print(\"4. See Customer Balance\")\n",
    "        print(\"5. Get Transaction Details\")\n",
    "        print(\"6. Show Total Customers and Total Balance\")\n",
    "        print(\"7. Show Customer Summary\")\n",
    "        print(\"8. Exit\")\n",
    "\n",
    "        choice = input(\"Enter your choice (1-8): \")\n",
    "\n",
    "        if choice == \"1\":\n",
    "            name = input(\"Enter customer name: \")\n",
    "            address = input(\"Enter customer address: \")\n",
    "            city = input(\"Enter customer city: \")\n",
    "            initial_balance = float(input(\"Enter initial balance (optional): \"))\n",
    "            customer_id = banking_system.create_customer(name, address, city, initial_balance)\n",
    "            print(f\"Customer created with ID: {customer_id}\")\n",
    "\n",
    "        elif choice == \"2\":\n",
    "            customer_id = int(input(\"Enter customer ID: \"))\n",
    "            amount = float(input(\"Enter deposit amount: \"))\n",
    "            customer = banking_system.get_customer(customer_id)\n",
    "            if customer:\n",
    "                customer.deposit(amount)\n",
    "                print(\"Deposit successful.\")\n",
    "            else:\n",
    "                print(\"Customer not found.\")\n",
    "\n",
    "        elif choice == \"3\":\n",
    "            customer_id = int(input(\"Enter customer ID: \"))\n",
    "            amount = float(input(\"Enter withdrawal amount: \"))\n",
    "            customer = banking_system.get_customer(customer_id)\n",
    "            if customer:\n",
    "                customer.withdraw(amount)\n",
    "            else:\n",
    "                print(\"Customer not found.\")\n",
    "\n",
    "        elif choice == \"4\":\n",
    "            customer_id = int(input(\"Enter customer ID: \"))\n",
    "            customer = banking_system.get_customer(customer_id)\n",
    "            if customer:\n",
    "                print(f\"Balance: {customer.get_balance()}\")\n",
    "            else:\n",
    "                print(\"Customer not found.\")\n",
    "\n",
    "        elif choice == \"5\":\n",
    "            customer_id = int(input(\"Enter customer ID: \"))\n",
    "            customer = banking_system.get_customer(customer_id)\n",
    "            if customer:\n",
    "                print(\"Transaction Details:\")\n",
    "                for transaction in customer.get_transactions():\n",
    "                    print(transaction)\n",
    "            else:\n",
    "                print(\"Customer not found.\")\n",
    "\n",
    "        elif choice == \"6\":\n",
    "            print(f\"Total Customers: {banking_system.get_total_customers()}\")\n",
    "            print(f\"Total Balance: {banking_system.get_total_balance()}\")\n",
    "\n",
    "        elif choice == \"7\":\n",
    "            customer_id = int(input(\"Enter customer ID: \"))\n",
    "            banking_system.print_customer_summary(customer_id)\n",
    "\n",
    "        elif choice == \"8\":\n",
    "            print(\"Exiting...\")\n",
    "            sys.exit()\n",
    "\n",
    "        else:\n",
    "            print(\"Invalid choice. Please try again.\")\n",
    "\n",
    "if __name__ == \"__main__\":\n",
    "    main()\n"
   ]
  },
  {
   "cell_type": "code",
   "execution_count": null,
   "id": "9f39a9c5",
   "metadata": {},
   "outputs": [],
   "source": []
  }
 ],
 "metadata": {
  "kernelspec": {
   "display_name": "Python 3 (ipykernel)",
   "language": "python",
   "name": "python3"
  },
  "language_info": {
   "codemirror_mode": {
    "name": "ipython",
    "version": 3
   },
   "file_extension": ".py",
   "mimetype": "text/x-python",
   "name": "python",
   "nbconvert_exporter": "python",
   "pygments_lexer": "ipython3",
   "version": "3.9.12"
  }
 },
 "nbformat": 4,
 "nbformat_minor": 5
}
