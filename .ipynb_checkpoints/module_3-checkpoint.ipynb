{
 "cells": [
  {
   "cell_type": "code",
   "execution_count": 4,
   "id": "10674289",
   "metadata": {},
   "outputs": [
    {
     "name": "stdout",
     "output_type": "stream",
     "text": [
      "[1, 2, 3, 4]\n"
     ]
    }
   ],
   "source": [
    "def unique_list(l):\n",
    "    x = []\n",
    "    for a in l:\n",
    "        if a not in x:\n",
    "            x.append(a)\n",
    "    return x\n",
    "print(unique_list([1,2,2,3,3,3,3,4,4,]))\n",
    "            "
   ]
  },
  {
   "cell_type": "code",
   "execution_count": 5,
   "id": "f3614808",
   "metadata": {},
   "outputs": [
    {
     "name": "stdout",
     "output_type": "stream",
     "text": [
      "xyz\n"
     ]
    }
   ],
   "source": [
    "s = ['x','y','z']\n",
    "str1 =''.join(s)\n",
    "print(str1)"
   ]
  },
  {
   "cell_type": "code",
   "execution_count": 7,
   "id": "fa4b71fa",
   "metadata": {},
   "outputs": [
    {
     "name": "stdout",
     "output_type": "stream",
     "text": [
      "yellow\n"
     ]
    }
   ],
   "source": [
    "import random\n",
    "list = ['red', 'blue', 'black', 'yellow']\n",
    "print(random.choice(list))"
   ]
  },
  {
   "cell_type": "code",
   "execution_count": 11,
   "id": "109ce274",
   "metadata": {},
   "outputs": [
    {
     "name": "stdout",
     "output_type": "stream",
     "text": [
      "second smallest number in list 3\n"
     ]
    }
   ],
   "source": [
    "list = [10,20,3,43,40,80,100,50]\n",
    "list.sort()\n",
    "print(\"second smallest number in list\", list[0])"
   ]
  },
  {
   "cell_type": "code",
   "execution_count": 12,
   "id": "135dbf78",
   "metadata": {},
   "outputs": [
    {
     "name": "stdout",
     "output_type": "stream",
     "text": [
      "('Black', '2556', 'rgb(0, 0, 0)')\n",
      "('Red', '78678', 'rgb(255, 0, 0)')\n",
      "('Yellow', '45464687', 'rgb(255, 255, 0)')\n"
     ]
    }
   ],
   "source": [
    "# split a list into different variables.\n",
    "color = [(\"Black\", \"2556\", \"rgb(0, 0, 0)\"), (\"Red\", \"78678\", \"rgb(255, 0, 0)\"),\n",
    "         (\"Yellow\", \"45464687\", \"rgb(255, 255, 0)\")]\n",
    "var1, var2, var3 = color\n",
    "print(var1)\n",
    "print(var2)\n",
    "print(var3)"
   ]
  },
  {
   "cell_type": "code",
   "execution_count": 13,
   "id": "34b8e2c9",
   "metadata": {},
   "outputs": [
    {
     "name": "stdout",
     "output_type": "stream",
     "text": [
      "('tuple', False, 3.5, 20)\n"
     ]
    }
   ],
   "source": [
    "# tuple with different data types\n",
    "tuple = (\"tuple\", False, 3.5, 20)\n",
    "print(tuple)"
   ]
  },
  {
   "cell_type": "code",
   "execution_count": 14,
   "id": "3a2730c6",
   "metadata": {},
   "outputs": [
    {
     "name": "stdout",
     "output_type": "stream",
     "text": [
      "(10, 20, 30, 40, 50, 60)\n",
      "(10,)\n"
     ]
    }
   ],
   "source": [
    "tuple = 10,20,30,40,50,60\n",
    "print(tuple)\n",
    "tuple = 10,\n",
    "print(tuple)"
   ]
  },
  {
   "cell_type": "code",
   "execution_count": 16,
   "id": "1270ee45",
   "metadata": {},
   "outputs": [
    {
     "name": "stdout",
     "output_type": "stream",
     "text": [
      "tops\n"
     ]
    }
   ],
   "source": [
    "tuple= ('t','o','p','s')\n",
    "str = ''.join(tuple)\n",
    "print(str)"
   ]
  },
  {
   "cell_type": "code",
   "execution_count": 19,
   "id": "b70ec85b",
   "metadata": {},
   "outputs": [
    {
     "name": "stdout",
     "output_type": "stream",
     "text": [
      "True\n",
      "False\n"
     ]
    }
   ],
   "source": [
    " tuple = ('a','n','h','5','l','g')\n",
    "print('g' in tuple)\n",
    "print('7' in tuple)"
   ]
  },
  {
   "cell_type": "code",
   "execution_count": 20,
   "id": "4b209d80",
   "metadata": {},
   "outputs": [
    {
     "data": {
      "text/plain": [
       "[25, 14, 222, 33, 2]"
      ]
     },
     "execution_count": 20,
     "metadata": {},
     "output_type": "execute_result"
    }
   ],
   "source": [
    "l=[2, 33, 222, 14,25]\n",
    "l.reverse()\n",
    "l"
   ]
  },
  {
   "cell_type": "code",
   "execution_count": 22,
   "id": "af949be9",
   "metadata": {},
   "outputs": [
    {
     "data": {
      "text/plain": [
       "25"
      ]
     },
     "execution_count": 22,
     "metadata": {},
     "output_type": "execute_result"
    }
   ],
   "source": [
    "list = [10,20,60,25]\n",
    "list.pop(-1)\n"
   ]
  },
  {
   "cell_type": "code",
   "execution_count": 25,
   "id": "a3fb1d1d",
   "metadata": {},
   "outputs": [
    {
     "name": "stdout",
     "output_type": "stream",
     "text": [
      "small 4\n",
      "large 20\n"
     ]
    }
   ],
   "source": [
    "l=[10,20,9,8,6,4,7]\n",
    "l.sort()\n",
    "print('small',l[0])\n",
    "print('large',l[-1])"
   ]
  },
  {
   "cell_type": "code",
   "execution_count": 27,
   "id": "ba5e8e26",
   "metadata": {},
   "outputs": [
    {
     "name": "stdout",
     "output_type": "stream",
     "text": [
      "True\n"
     ]
    }
   ],
   "source": [
    "list_a = [2, 4, 6, 8]\n",
    "list_a= [2, 4, 6, 8]\n",
    "\n",
    "list_a = [2, 4, 6, 8]\n",
    "print(list_a==list_a)"
   ]
  },
  {
   "cell_type": "code",
   "execution_count": null,
   "id": "9a89f3c6",
   "metadata": {},
   "outputs": [],
   "source": []
  }
 ],
 "metadata": {
  "kernelspec": {
   "display_name": "Python 3 (ipykernel)",
   "language": "python",
   "name": "python3"
  },
  "language_info": {
   "codemirror_mode": {
    "name": "ipython",
    "version": 3
   },
   "file_extension": ".py",
   "mimetype": "text/x-python",
   "name": "python",
   "nbconvert_exporter": "python",
   "pygments_lexer": "ipython3",
   "version": "3.9.12"
  }
 },
 "nbformat": 4,
 "nbformat_minor": 5
}
