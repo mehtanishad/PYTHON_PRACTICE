{
 "cells": [
  {
   "cell_type": "code",
   "execution_count": 1,
   "id": "b8900312",
   "metadata": {},
   "outputs": [
    {
     "name": "stdout",
     "output_type": "stream",
     "text": [
      "I love Geeksforgeeks\n"
     ]
    }
   ],
   "source": [
    "# local\n",
    "def f():\n",
    "    s = \"hello world\"\n",
    "    print(s)\n",
    "f()"
   ]
  },
  {
   "cell_type": "code",
   "execution_count": 2,
   "id": "ac9d6c59",
   "metadata": {},
   "outputs": [
    {
     "name": "stdout",
     "output_type": "stream",
     "text": [
      "Inside Function hello world\n",
      "Outside Function hello world\n"
     ]
    }
   ],
   "source": [
    "#global \n",
    "def f():\n",
    "    print(\"Inside Function\", s)\n",
    " \n",
    "s = \"hello world\"\n",
    "f()\n",
    "print(\"Outside Function\", s)"
   ]
  },
  {
   "cell_type": "code",
   "execution_count": 3,
   "id": "9d0a753d",
   "metadata": {},
   "outputs": [],
   "source": [
    "# public\n",
    "# private\n",
    "# protected\n"
   ]
  },
  {
   "cell_type": "code",
   "execution_count": 5,
   "id": "e8ff4330",
   "metadata": {},
   "outputs": [
    {
     "name": "stdout",
     "output_type": "stream",
     "text": [
      "name:  jay\n",
      "age:  18\n"
     ]
    }
   ],
   "source": [
    "# public \n",
    "class public:\n",
    "    def __init__(self,name ,age):\n",
    "        self.publicname = name\n",
    "        self.publicage = age\n",
    "        \n",
    "    def displayage(self):\n",
    "        print(\"age: \", self.publicage)\n",
    "        \n",
    "obj = public(\"jay\", 18)\n",
    "\n",
    "print(\"name: \", obj.publicname)\n",
    "obj.displayage()"
   ]
  },
  {
   "cell_type": "code",
   "execution_count": 10,
   "id": "05fc3bd1",
   "metadata": {},
   "outputs": [
    {
     "name": "stdout",
     "output_type": "stream",
     "text": [
      "name:  jay\n",
      "roll:  25090\n",
      "branch:  tops technology\n"
     ]
    }
   ],
   "source": [
    "# private\n",
    "class private:\n",
    "    \n",
    "    __name = None\n",
    "    __roll = None\n",
    "    __branch = None\n",
    "    \n",
    "    def __init__(self,name, roll, branch):\n",
    "        self.__name = name\n",
    "        self.__roll = roll\n",
    "        self.__branch = branch\n",
    "        \n",
    "    def displaydetails(self):\n",
    "        print(\"name: \", self.__name)\n",
    "        print(\"roll: \", self.__roll)\n",
    "        print(\"branch: \", self.__branch)\n",
    "    \n",
    "    def accessPrivateFunction(self):\n",
    "        self.displaydetails()\n",
    "        \n",
    "obj = private(\"jay\", 25090, \"tops technology\")\n",
    "obj.accessPrivateFunction()\n",
    "        \n",
    "        \n",
    "        "
   ]
  },
  {
   "cell_type": "code",
   "execution_count": 12,
   "id": "bd05da94",
   "metadata": {},
   "outputs": [
    {
     "name": "stdout",
     "output_type": "stream",
     "text": [
      "Name:  jay\n",
      "Roll:  1706256\n",
      "Branch:  Information Technology\n"
     ]
    }
   ],
   "source": [
    "\n",
    "class Student:\n",
    "    _name = None\n",
    "    _roll = None\n",
    "    _branch = None\n",
    "\n",
    "    def __init__(self, name, roll, branch):\n",
    "        self._name = name\n",
    "        self._roll = roll\n",
    "        self._branch = branch\n",
    "\n",
    "    def _displayRollAndBranch(self):\n",
    "        print(\"Roll: \", self._roll)\n",
    "        print(\"Branch: \", self._branch)\n",
    "\n",
    "\n",
    "class protected(Student):\n",
    "\n",
    "\n",
    "    def __init__(self, name, roll, branch):\n",
    "        Student.__init__(self, name, roll, branch)\n",
    "    def displayDetails(self):\n",
    "        print(\"Name: \", self._name)\n",
    "        self._displayRollAndBranch()\n",
    "\n",
    "\n",
    "obj = protected(\"jay\", 1706256, \"Information Technology\")\n",
    "\n",
    "\n",
    "obj.displayDetails()\n"
   ]
  },
  {
   "cell_type": "code",
   "execution_count": null,
   "id": "d304d15e",
   "metadata": {},
   "outputs": [],
   "source": []
  }
 ],
 "metadata": {
  "kernelspec": {
   "display_name": "Python 3 (ipykernel)",
   "language": "python",
   "name": "python3"
  },
  "language_info": {
   "codemirror_mode": {
    "name": "ipython",
    "version": 3
   },
   "file_extension": ".py",
   "mimetype": "text/x-python",
   "name": "python",
   "nbconvert_exporter": "python",
   "pygments_lexer": "ipython3",
   "version": "3.9.12"
  }
 },
 "nbformat": 4,
 "nbformat_minor": 5
}
