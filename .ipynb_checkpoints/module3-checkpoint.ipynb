{
 "cells": [
  {
   "cell_type": "code",
   "execution_count": 5,
   "id": "95ff7f7c",
   "metadata": {},
   "outputs": [
    {
     "name": "stdout",
     "output_type": "stream",
     "text": [
      "Input a number to compute the factiorial: 9\n",
      "362880\n"
     ]
    }
   ],
   "source": [
    "def factorial(n):\n",
    "    if n == 0:\n",
    "        return 1\n",
    "    else:\n",
    "        return n * factorial(n-1)\n",
    "n = int(input(\"Input a number to compute the factiorial: \"))\n",
    "print(factorial(n))"
   ]
  },
  {
   "cell_type": "code",
   "execution_count": 7,
   "id": "190d399a",
   "metadata": {},
   "outputs": [
    {
     "name": "stdout",
     "output_type": "stream",
     "text": [
      "key is present in dectionary\n",
      "key is not present in dectionary\n"
     ]
    }
   ],
   "source": [
    "d = {1:100, 2:200, 3:300, 4:400, 5:500, 6:600}\n",
    "def is_key_present(x):\n",
    "    if x in d:\n",
    "        print(\"key is present in dectionary\")\n",
    "    else:\n",
    "        print(\"key is not present in dectionary\")\n",
    "is_key_present(1)\n",
    "is_key_present(8)\n",
    "\n",
    "        "
   ]
  },
  {
   "cell_type": "code",
   "execution_count": 4,
   "id": "30f58000",
   "metadata": {},
   "outputs": [
    {
     "name": "stdout",
     "output_type": "stream",
     "text": [
      "present:  value:  100\n",
      "not present\n"
     ]
    }
   ],
   "source": [
    "def checkkey(dic, key):\n",
    "    if key in dic:\n",
    "        print(\"present: \", end=\" \")\n",
    "        print(\"value: \",dic[key])\n",
    "    else:\n",
    "        print(\"not present\")\n",
    "dic = {'a':100, 'b':200, 'c':300}\n",
    "key = 'a'\n",
    "checkkey(dic, key)\n",
    "\n",
    "key = 'l'\n",
    "checkkey(dic, key)\n",
    "\n",
    "    "
   ]
  },
  {
   "cell_type": "code",
   "execution_count": 9,
   "id": "13936d19",
   "metadata": {},
   "outputs": [
    {
     "name": "stdout",
     "output_type": "stream",
     "text": [
      "True\n",
      "False\n"
     ]
    }
   ],
   "source": [
    "def is_Sublist(l, s):\n",
    "\tsub_set = False\n",
    "\tif s == []:\n",
    "\t\tsub_set = True\n",
    "\telif s == l:\n",
    "\t\tsub_set = True\n",
    "\telif len(s) > len(l):\n",
    "\t\tsub_set = False\n",
    "\n",
    "\telse:\n",
    "\t\tfor i in range(len(l)):\n",
    "\t\t\tif l[i] == s[0]:\n",
    "\t\t\t\tn = 1\n",
    "\t\t\t\twhile (n < len(s)) and (l[i+n] == s[n]):\n",
    "\t\t\t\t\tn += 1\n",
    "\t\t\t\t\n",
    "\t\t\t\tif n == len(s):\n",
    "\t\t\t\t\tsub_set = True\n",
    "\n",
    "\treturn sub_set\n",
    "\n",
    "a = [2,4,3,5,7]\n",
    "b = [4,3]\n",
    "c = [3,7]\n",
    "print(is_Sublist(a, b))\n",
    "print(is_Sublist(a, c))"
   ]
  },
  {
   "cell_type": "code",
   "execution_count": 4,
   "id": "914a9cfe",
   "metadata": {},
   "outputs": [
    {
     "data": {
      "text/plain": [
       "True"
      ]
     },
     "execution_count": 4,
     "metadata": {},
     "output_type": "execute_result"
    }
   ],
   "source": [
    "def is_perfect(number):\n",
    "    factors = []\n",
    "    for i in range(1, number):\n",
    "        if number % i == 0:\n",
    "            factors.append(i)\n",
    "    return sum(factors) == number\n",
    "is_perfect(28)"
   ]
  },
  {
   "cell_type": "code",
   "execution_count": null,
   "id": "0b3862de",
   "metadata": {},
   "outputs": [],
   "source": [
    "def is_perfect(number):\n",
    "    factors = []\n",
    "    for i in range(1, number):\n",
    "        if number % i == 0:\n",
    "            factors.append(i)\n",
    "    return sum(factors) == number\n",
    "is_perfect(28)"
   ]
  },
  {
   "cell_type": "code",
   "execution_count": 11,
   "id": "0f662e59",
   "metadata": {},
   "outputs": [
    {
     "name": "stdout",
     "output_type": "stream",
     "text": [
      "ac\n",
      "ad\n",
      "bc\n",
      "bd\n"
     ]
    }
   ],
   "source": [
    "import itertools      \n",
    "d ={'1':['a','b'], '2':['c','d']}\n",
    "for combo in itertools.product(*[d[k] for k in sorted(d.keys())]):\n",
    "    print(''.join(combo))"
   ]
  },
  {
   "cell_type": "code",
   "execution_count": 17,
   "id": "bfffbaf6",
   "metadata": {},
   "outputs": [
    {
     "name": "stdout",
     "output_type": "stream",
     "text": [
      "Counter({'a': 400, 'b': 400, 'd': 400, 'c': 300})\n"
     ]
    }
   ],
   "source": [
    "from collections import Counter\n",
    "d1 = {'a':100, 'b':200, 'c':300}\n",
    "d2 = {'a': 300, 'b': 200, 'd':400}\n",
    "d = Counter(d1)+Counter(d2)\n",
    "print(d)\n"
   ]
  },
  {
   "cell_type": "code",
   "execution_count": 19,
   "id": "b830fff1",
   "metadata": {},
   "outputs": [
    {
     "name": "stdout",
     "output_type": "stream",
     "text": [
      "{'a': None, 'b': None, 'c': None}\n"
     ]
    }
   ],
   "source": [
    "l = [(\"a\", 1), (\"a\", 2), (\"a\", 3), (\"b\", 1), (\"b\", 2), (\"c\", 1)]\n",
    "d = {}\n",
    "for a,b in l:\n",
    "    d.setdefault(a,[].append(b))\n",
    "print(d)"
   ]
  },
  {
   "cell_type": "code",
   "execution_count": 20,
   "id": "e914e767",
   "metadata": {},
   "outputs": [
    {
     "name": "stdout",
     "output_type": "stream",
     "text": [
      "2\n"
     ]
    }
   ],
   "source": [
    "count = 0\n",
    "\n",
    "my_string = \"Programiz\"\n",
    "my_char = \"r\"\n",
    "\n",
    "for i in my_string:\n",
    "    if i == my_char:\n",
    "        count += 1\n",
    "\n",
    "print(count)"
   ]
  },
  {
   "cell_type": "code",
   "execution_count": 21,
   "id": "a2ed04ee",
   "metadata": {},
   "outputs": [
    {
     "name": "stdout",
     "output_type": "stream",
     "text": [
      "{1: 100, 2: 200, 3: 300, 4: 400, 5: 500, 6: 600}\n"
     ]
    }
   ],
   "source": [
    "d1={1:100, 2:200}\n",
    "d2={3:300, 4:400}\n",
    "d3={5:500, 6:600}\n",
    "d4={}\n",
    "for d in (d1, d2, d3): d4.update(d)\n",
    "print(d4)"
   ]
  },
  {
   "cell_type": "code",
   "execution_count": null,
   "id": "595c73ef",
   "metadata": {},
   "outputs": [],
   "source": []
  }
 ],
 "metadata": {
  "kernelspec": {
   "display_name": "Python 3 (ipykernel)",
   "language": "python",
   "name": "python3"
  },
  "language_info": {
   "codemirror_mode": {
    "name": "ipython",
    "version": 3
   },
   "file_extension": ".py",
   "mimetype": "text/x-python",
   "name": "python",
   "nbconvert_exporter": "python",
   "pygments_lexer": "ipython3",
   "version": "3.9.12"
  }
 },
 "nbformat": 4,
 "nbformat_minor": 5
}
