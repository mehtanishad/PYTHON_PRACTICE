{
 "cells": [
  {
   "cell_type": "markdown",
   "id": "358c5429",
   "metadata": {},
   "source": [
    "# Write a Python program to get the Fibonacci series of given range."
   ]
  },
  {
   "cell_type": "code",
   "execution_count": 7,
   "id": "1c54cca8",
   "metadata": {},
   "outputs": [
    {
     "name": "stdout",
     "output_type": "stream",
     "text": [
      "enter a number:5\n",
      "fibonacci series: 0 1 1 2 3 \n"
     ]
    }
   ],
   "source": [
    "#number=100\n",
    "num=int(input(\"enter a number:\"))\n",
    "n1, n2 = 0,1\n",
    "print(\"fibonacci series:\", n1,n2, end=\" \")\n",
    "for i in range(2,num):\n",
    "    n3=n1+n2\n",
    "    n1=n2\n",
    "    n2=n3\n",
    "    print(n3, end=\" \")\n",
    "print()\n",
    "    "
   ]
  },
  {
   "cell_type": "code",
   "execution_count": null,
   "id": "ad252ee8",
   "metadata": {},
   "outputs": [],
   "source": []
  },
  {
   "cell_type": "code",
   "execution_count": null,
   "id": "6d70a2de",
   "metadata": {},
   "outputs": [],
   "source": []
  },
  {
   "cell_type": "code",
   "execution_count": null,
   "id": "d8b39cd3",
   "metadata": {},
   "outputs": [],
   "source": []
  },
  {
   "cell_type": "code",
   "execution_count": null,
   "id": "afd99ebe",
   "metadata": {},
   "outputs": [],
   "source": []
  },
  {
   "cell_type": "code",
   "execution_count": null,
   "id": "3ea20e55",
   "metadata": {},
   "outputs": [],
   "source": []
  },
  {
   "cell_type": "code",
   "execution_count": null,
   "id": "8e99596a",
   "metadata": {},
   "outputs": [],
   "source": []
  }
 ],
 "metadata": {
  "kernelspec": {
   "display_name": "Python 3 (ipykernel)",
   "language": "python",
   "name": "python3"
  },
  "language_info": {
   "codemirror_mode": {
    "name": "ipython",
    "version": 3
   },
   "file_extension": ".py",
   "mimetype": "text/x-python",
   "name": "python",
   "nbconvert_exporter": "python",
   "pygments_lexer": "ipython3",
   "version": "3.9.12"
  }
 },
 "nbformat": 4,
 "nbformat_minor": 5
}
