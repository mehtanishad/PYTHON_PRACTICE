{
 "cells": [
  {
   "cell_type": "code",
   "execution_count": 2,
   "id": "132aaa61",
   "metadata": {},
   "outputs": [
    {
     "name": "stdout",
     "output_type": "stream",
     "text": [
      "god setib nam\n"
     ]
    }
   ],
   "source": [
    "def my_function(x):\n",
    "  return x[::-1]\n",
    "\n",
    "mytxt = my_function(\"man bites dog\")\n",
    "\n",
    "print(mytxt)"
   ]
  },
  {
   "cell_type": "code",
   "execution_count": 15,
   "id": "de26e697",
   "metadata": {},
   "outputs": [
    {
     "name": "stdout",
     "output_type": "stream",
     "text": [
      "['dog', 'bites', 'man']\n"
     ]
    }
   ],
   "source": [
    "x = \"man-bites-dog\"\n",
    "y=x.split(\"-\")[::-1]\n",
    "print(y)"
   ]
  },
  {
   "cell_type": "code",
   "execution_count": 16,
   "id": "4f2ec877",
   "metadata": {},
   "outputs": [],
   "source": [
    "z = ' '.join(y)"
   ]
  },
  {
   "cell_type": "code",
   "execution_count": 17,
   "id": "363dbf01",
   "metadata": {},
   "outputs": [
    {
     "name": "stdout",
     "output_type": "stream",
     "text": [
      "dog bites man\n"
     ]
    }
   ],
   "source": [
    "print(z)"
   ]
  },
  {
   "cell_type": "code",
   "execution_count": null,
   "id": "e13f4d6a",
   "metadata": {},
   "outputs": [],
   "source": [
    "txt = \"c b a\"[::-1]\n",
    "print(txt)"
   ]
  },
  {
   "cell_type": "code",
   "execution_count": 7,
   "id": "f41b5def",
   "metadata": {},
   "outputs": [
    {
     "name": "stdout",
     "output_type": "stream",
     "text": [
      "god setib nam\n"
     ]
    }
   ],
   "source": [
    "def my_fuction(x):\n",
    "    return x[::-1]\n",
    "\n",
    "mytxt = my_fuction(\"man bites dog\")\n",
    "print(mytxt)"
   ]
  },
  {
   "cell_type": "code",
   "execution_count": 11,
   "id": "fb80f448",
   "metadata": {},
   "outputs": [
    {
     "name": "stdout",
     "output_type": "stream",
     "text": [
      "miskin jay\n"
     ]
    }
   ],
   "source": [
    "def my_fuction(fname):\n",
    "    print(fname +\"jay\")\n",
    "    \n",
    "my_fuction(\"miskin \")"
   ]
  },
  {
   "cell_type": "code",
   "execution_count": 14,
   "id": "18c77cdc",
   "metadata": {},
   "outputs": [
    {
     "name": "stdout",
     "output_type": "stream",
     "text": [
      "miskinjay\n"
     ]
    }
   ],
   "source": [
    "def my_fuction(fname, lname):\n",
    "    print(fname + \"\" + lname)\n",
    "    \n",
    "my_fuction(\"miskin\" , \"jay\")"
   ]
  },
  {
   "cell_type": "code",
   "execution_count": 3,
   "id": "dd166114",
   "metadata": {},
   "outputs": [
    {
     "name": "stdout",
     "output_type": "stream",
     "text": [
      "22\n"
     ]
    }
   ],
   "source": [
    "def fuction(n):\n",
    "    return lambda a : a * n\n",
    "j = fuction(2)\n",
    "print(j(11))\n",
    "    \n",
    "    "
   ]
  },
  {
   "cell_type": "code",
   "execution_count": 2,
   "id": "c7701d5e",
   "metadata": {},
   "outputs": [
    {
     "name": "stdout",
     "output_type": "stream",
     "text": [
      "44\n"
     ]
    }
   ],
   "source": [
    "def fuction(n):\n",
    "    return lambda a : a * n\n",
    "m = fuction(4)\n",
    "print(m(11))"
   ]
  },
  {
   "cell_type": "code",
   "execution_count": 4,
   "id": "2d47eb07",
   "metadata": {},
   "outputs": [
    {
     "name": "stdout",
     "output_type": "stream",
     "text": [
      "22\n",
      "44\n"
     ]
    }
   ],
   "source": [
    "def fuction(n):\n",
    "    return lambda a : a * n\n",
    "\n",
    "j = fuction(2)\n",
    "m = fuction(4)\n",
    "\n",
    "print(j(11))\n",
    "print(m(11))"
   ]
  },
  {
   "cell_type": "code",
   "execution_count": null,
   "id": "908fc998",
   "metadata": {},
   "outputs": [],
   "source": []
  }
 ],
 "metadata": {
  "kernelspec": {
   "display_name": "Python 3 (ipykernel)",
   "language": "python",
   "name": "python3"
  },
  "language_info": {
   "codemirror_mode": {
    "name": "ipython",
    "version": 3
   },
   "file_extension": ".py",
   "mimetype": "text/x-python",
   "name": "python",
   "nbconvert_exporter": "python",
   "pygments_lexer": "ipython3",
   "version": "3.9.12"
  }
 },
 "nbformat": 4,
 "nbformat_minor": 5
}
